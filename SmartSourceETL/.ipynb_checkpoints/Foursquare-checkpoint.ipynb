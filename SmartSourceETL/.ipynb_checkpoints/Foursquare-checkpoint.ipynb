{
 "cells": [
  {
   "cell_type": "code",
   "execution_count": null,
   "metadata": {
    "collapsed": false
   },
   "outputs": [],
   "source": [
    "import io \n",
    "import json\n",
    "with io.open('config_secret_fs.json') as cred:\n",
    "    creds = json.load(cred)"
   ]
  },
  {
   "cell_type": "code",
   "execution_count": null,
   "metadata": {
    "collapsed": false
   },
   "outputs": [],
   "source": [
    "import psycopg2\n",
    "import sys\n",
    "import pprint\n",
    "#Define our connection string\n",
    "\n",
    "with io.open('../login.json') as log:\n",
    "    login = json.load(log)\n",
    "\n",
    "conn_string = \"host=\"+login[\"host\"]+\" dbname=\"+login[\"dbname\"]+\" user=\"+login[\"user\"]+\" password=\"+login[\"password\"]\n",
    "# print the connection string we will use to connect\n",
    "print(\"Connecting to database\")\n",
    " # get a connection, if a connect cannot be made an exception will be raised here\n",
    "conn = psycopg2.connect(conn_string)\n",
    " # conn.cursor will return a cursor object, you can use this cursor to perform queries\n",
    "cursor = conn.cursor()\n",
    "print(\"Connected!\")\n",
    "cursor.execute(\"SELECT name,id FROM ip.interest_points where in_use = '1'\")\n",
    "records = cursor.fetchall()"
   ]
  },
  {
   "cell_type": "code",
   "execution_count": null,
   "metadata": {
    "collapsed": true
   },
   "outputs": [],
   "source": [
    "import re\n",
    "import unicodedata\n",
    "\n",
    "def strip_accents(text):\n",
    "    \"\"\"\n",
    "    Strip accents from input String.\n",
    "\n",
    "    :param text: The input string.\n",
    "    :type text: String.\n",
    "\n",
    "    :returns: The processed String.\n",
    "    :rtype: String.\n",
    "    \"\"\"\n",
    "    try:\n",
    "        text = unicode(text, 'utf-8')\n",
    "    except NameError: # unicode is a default on python 3 \n",
    "        pass\n",
    "    text = unicodedata.normalize('NFD', text)\n",
    "    text = text.encode('ascii', 'ignore')\n",
    "    text = text.decode(\"utf-8\")\n",
    "    text = text.replace(\"\\'\",\" \")\n",
    "    text = text.replace(\":\",\"\")\n",
    "    text = text.replace(\"  \",\" \")\n",
    "    text = text[0:60]\n",
    "    return str(text)\n",
    "\n",
    "def text_to_id(text):\n",
    "    \"\"\"\n",
    "    Convert input text to id.\n",
    "\n",
    "    :param text: The input string.\n",
    "    :type text: String.\n",
    "\n",
    "    :returns: The processed String.\n",
    "    :rtype: String.\n",
    "    \"\"\"\n",
    "    text = strip_accents(text.lower())\n",
    "    text = re.sub('[ ]+', '_', text)\n",
    "    text = re.sub('[^0-9a-zA-Z_-],', '', text)\n",
    "    return text\n",
    "#response.total\n",
    "#strip_accents(records[i][0])"
   ]
  },
  {
   "cell_type": "code",
   "execution_count": null,
   "metadata": {
    "collapsed": false
   },
   "outputs": [],
   "source": [
    "import requests\n",
    "foursquare = []\n",
    "for i in range(0,len(records)): #len(records)\n",
    "    payload = {\n",
    "    'near':'lyon',\n",
    "    'query':strip_accents(records[i][0]),\n",
    "    'client_id':creds['client_id'], \n",
    "    'client_secret':creds['client_secret'],\n",
    "    'v':creds['v']\n",
    "    }\n",
    "    r = requests.get('https://api.foursquare.com/v2/venues/explore?',params=payload)\n",
    "    response = r.json()\n",
    "    if r.ok and len(response['response']['groups'][0]['items']) != 0 and 'rating' in response['response']['groups'][0]['items'][0]['venue'] :\n",
    "        foursquare.append([   \n",
    "                records[i][1],\n",
    "                response['response']['groups'][0]['items'][0]['venue']['name'],\n",
    "                response['response']['groups'][0]['items'][0]['venue']['stats']['checkinsCount'],\n",
    "                response['response']['groups'][0]['items'][0]['venue']['stats']['tipCount'],\n",
    "                response['response']['groups'][0]['items'][0]['venue']['stats']['usersCount'],\n",
    "                response['response']['groups'][0]['items'][0]['venue']['rating']\n",
    "                ]\n",
    "        )"
   ]
  },
  {
   "cell_type": "code",
   "execution_count": null,
   "metadata": {
    "collapsed": false
   },
   "outputs": [],
   "source": [
    "foursquare[0]"
   ]
  },
  {
   "cell_type": "code",
   "execution_count": null,
   "metadata": {
    "collapsed": false
   },
   "outputs": [],
   "source": [
    "## Insert records in Landing Table\n",
    "try:\n",
    "    #Truncates the Landing table\n",
    "    query = \"TRUNCATE TABLE landing.ip_foursquare;\"\n",
    "    cursor.execute(query)\n",
    "    conn.commit()\n",
    "\n",
    "    # insert all the records\n",
    "    for row in foursquare:\n",
    "        idd = row[0]\n",
    "        name = row[1]\n",
    "        checkinsCount = row[2]\n",
    "        tipCount = row[3]\n",
    "        usersCount = row[4]\n",
    "        rating = row[5]\n",
    "\n",
    "        query = \"\"\"\n",
    "            INSERT INTO landing.ip_foursquare (\n",
    "                idd, name, checkinsCount, tipCount, usersCount, rating) \n",
    "            VALUES (\n",
    "                %s, %s, %s, %s, %s, %s)\"\"\"\n",
    "\n",
    "        data = (idd, name, checkinsCount, tipCount, usersCount, rating)\n",
    "\n",
    "        cursor.execute(query,data)\n",
    "        conn.commit()\n",
    "        \n",
    "    #TODO: Log Success in DB\n",
    "    print('{0} records inserted in the database.'.format(len(foursquare)))\n",
    "\n",
    "\n",
    "except psycopg2.DatabaseError as e:\n",
    "    \n",
    "    if con:\n",
    "        con.rollback()\n",
    "    \n",
    "    #TODO: Log Error  in DB\n",
    "    print('Error {0}'.format(e))\n",
    "    sys.exit(1)\n",
    "    \n",
    "    \n",
    "finally:\n",
    "    \n",
    "    if conn:\n",
    "        conn.close()"
   ]
  },
  {
   "cell_type": "code",
   "execution_count": null,
   "metadata": {
    "collapsed": true
   },
   "outputs": [],
   "source": []
  }
 ],
 "metadata": {
  "kernelspec": {
   "display_name": "Python 3",
   "language": "python",
   "name": "python3"
  },
  "language_info": {
   "codemirror_mode": {
    "name": "ipython",
    "version": 3
   },
   "file_extension": ".py",
   "mimetype": "text/x-python",
   "name": "python",
   "nbconvert_exporter": "python",
   "pygments_lexer": "ipython3",
   "version": "3.5.1"
  }
 },
 "nbformat": 4,
 "nbformat_minor": 0
}
