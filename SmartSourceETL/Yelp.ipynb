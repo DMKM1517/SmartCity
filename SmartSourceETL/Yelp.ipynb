{
 "cells": [
  {
   "cell_type": "code",
   "execution_count": 1,
   "metadata": {
    "collapsed": false
   },
   "outputs": [],
   "source": [
    "from yelp.client import Client\n",
    "from yelp.oauth1_authenticator import Oauth1Authenticator"
   ]
  },
  {
   "cell_type": "code",
   "execution_count": 3,
   "metadata": {
    "collapsed": false
   },
   "outputs": [],
   "source": [
    "import os\n",
    "from inspect import getsourcefile\n",
    "from os.path import abspath\n",
    "import io\n",
    "import json\n",
    "\n",
    "#Makes we use the path of the script folder and it is correct\n",
    "\n",
    "currentPath = abspath(getsourcefile(lambda:0))\n",
    "if not currentPath.endswith('SmartSourceETL'):\n",
    "    currentPath, garbage =  os.path.split(abspath(getsourcefile(lambda:0)))\n",
    "\n",
    "cfs_path = '{0}/{1}'.format(currentPath, 'config_secret.json')\n",
    "with io.open(cfs_path) as cred:\n",
    "    creds = json.load(cred)\n",
    "    auth = Oauth1Authenticator(**creds)\n",
    "    client = Client(auth)"
   ]
  },
  {
   "cell_type": "code",
   "execution_count": 5,
   "metadata": {
    "collapsed": false
   },
   "outputs": [
    {
     "name": "stdout",
     "output_type": "stream",
     "text": [
      "Connecting to database\n",
      "Connected!\n"
     ]
    }
   ],
   "source": [
    "import psycopg2\n",
    "import sys\n",
    "import pprint\n",
    "\n",
    "print('Connecting to database')\n",
    "\n",
    "cfl_path = '{0}/../{1}'.format(currentPath, 'login.json')\n",
    "with io.open(cfl_path) as log:\n",
    "    login = json.load(log)\n",
    "#Define our connection string\n",
    "conn_string = \"host=\"+login[\"host\"]+\" dbname=\"+login[\"dbname\"]+\" user=\"+login[\"user\"]+\" password=\"+login[\"password\"]\n",
    "\n",
    "# get a connection, if a connect cannot be made an exception will be raised here\n",
    "conn = psycopg2.connect(conn_string)\n",
    " # conn.cursor will return a cursor object, you can use this cursor to perform queries\n",
    "cursor = conn.cursor()\n",
    "print('Connected!')\n",
    "cursor.execute(\"SELECT name,id FROM ip.interest_points where in_use = '1'\")\n",
    "records = cursor.fetchall()"
   ]
  },
  {
   "cell_type": "code",
   "execution_count": 6,
   "metadata": {
    "collapsed": false
   },
   "outputs": [],
   "source": [
    "import re\n",
    "import unicodedata\n",
    "\n",
    "\n",
    "def strip_accents(text):\n",
    "    \"\"\"\n",
    "    Strip accents from input String.\n",
    "\n",
    "    :param text: The input string.\n",
    "    :type text: String.\n",
    "\n",
    "    :returns: The processed String.\n",
    "    :rtype: String.\n",
    "    \"\"\"\n",
    "    try:\n",
    "        text = unicode(text, 'utf-8')\n",
    "    except NameError: # unicode is a default on python 3 \n",
    "        pass\n",
    "    text = unicodedata.normalize('NFD', text)\n",
    "    text = text.encode('ascii', 'ignore')\n",
    "    text = text.decode(\"utf-8\")\n",
    "    text = text.replace(\"\\'\",\" \")\n",
    "    text = text.replace(\":\",\"\")\n",
    "    text = text.replace(\"  \",\" \")\n",
    "    text = text[0:60]\n",
    "    return str(text)\n",
    "\n",
    "def text_to_id(text):\n",
    "    \"\"\"\n",
    "    Convert input text to id.\n",
    "\n",
    "    :param text: The input string.\n",
    "    :type text: String.\n",
    "\n",
    "    :returns: The processed String.\n",
    "    :rtype: String.\n",
    "    \"\"\"\n",
    "    text = strip_accents(text.lower())\n",
    "    text = re.sub('[ ]+', '_', text)\n",
    "    text = re.sub('[^0-9a-zA-Z_-],', '', text)\n",
    "    return text\n",
    "\n"
   ]
  },
  {
   "cell_type": "code",
   "execution_count": null,
   "metadata": {
    "collapsed": false
   },
   "outputs": [
    {
     "name": "stdout",
     "output_type": "stream",
     "text": [
      "Retreiving IPs Information from Yelp\n"
     ]
    }
   ],
   "source": [
    "print('Retreiving IPs Information from Yelp')\n",
    "\n",
    "yelp = []\n",
    "for i in range(0,len(records)):\n",
    "    params = {\n",
    "    'term': strip_accents(records[i][0]),\n",
    "    'lang': 'fr'\n",
    "    }\n",
    "    response = client.search('Lyon', **params)\n",
    "    if response.total !=0 :\n",
    "        yelp.append([response.businesses[0].name,\n",
    "        response.businesses[0].rating,\n",
    "        response.businesses[0].location.coordinate.latitude,\n",
    "        response.businesses[0].location.coordinate.longitude,\n",
    "        response.businesses[0].image_url,\n",
    "        response.businesses[0].phone,\n",
    "        response.businesses[0].review_count,\n",
    "        records[i][1]])\n",
    "        \n",
    "print('{0} IPs Retreived from Yelp.'.format(len(yelp)))\n"
   ]
  },
  {
   "cell_type": "code",
   "execution_count": null,
   "metadata": {
    "collapsed": false
   },
   "outputs": [],
   "source": [
    "## Insert records in Landing Table\n",
    "print('Inserting IPs into the database')\n",
    "\n",
    "try:\n",
    "    #Truncates the Landing table\n",
    "    query = \"TRUNCATE TABLE landing.ip_yelp;\"\n",
    "    cursor.execute(query)\n",
    "    conn.commit\n",
    "\n",
    "    for row in yelp:\n",
    "        name = row[0]\n",
    "        rating = row[1]\n",
    "        latitude = row[2]\n",
    "        longitude = row[3]\n",
    "        image_url = row[4]\n",
    "        phone = row[5]\n",
    "        review_count = row[6]\n",
    "        idd = row[7]\n",
    "\n",
    "        query = \"\"\"\n",
    "            INSERT INTO landing.ip_yelp (\n",
    "                name, rating, latitude, longitude, image_url, phone, review_count, idd\n",
    "            ) VALUES (\n",
    "                %s, %s, %s, %s, %s, %s, %s, %s\n",
    "            )\"\"\"\n",
    "        data = (name, rating, latitude, longitude, image_url, phone, review_count, idd)\n",
    "\n",
    "        cursor.execute(query,data)\n",
    "        conn.commit()\n",
    "    \n",
    "    #TODO: Log Success in DB\n",
    "    print('{0} records inserted in the database.'.format(len(yelp)))\n",
    "\n",
    "except psycopg2.DatabaseError as e:\n",
    "    \n",
    "    if conn:\n",
    "        conn.rollback()\n",
    "    \n",
    "    #TODO: Log Error.\n",
    "    print('Error {0}'.format(e))   \n",
    "    sys.exit(1)\n",
    "    \n",
    "    \n",
    "finally:\n",
    "    if conn:\n",
    "        conn.close()"
   ]
  },
  {
   "cell_type": "code",
   "execution_count": null,
   "metadata": {
    "collapsed": true
   },
   "outputs": [],
   "source": []
  }
 ],
 "metadata": {
  "kernelspec": {
   "display_name": "Python 3",
   "language": "python",
   "name": "python3"
  },
  "language_info": {
   "codemirror_mode": {
    "name": "ipython",
    "version": 3
   },
   "file_extension": ".py",
   "mimetype": "text/x-python",
   "name": "python",
   "nbconvert_exporter": "python",
   "pygments_lexer": "ipython3",
   "version": "3.5.1"
  }
 },
 "nbformat": 4,
 "nbformat_minor": 0
}
