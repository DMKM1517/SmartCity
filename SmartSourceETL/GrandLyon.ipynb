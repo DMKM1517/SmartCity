{
 "cells": [
  {
   "cell_type": "code",
   "execution_count": 1,
   "metadata": {
    "collapsed": false
   },
   "outputs": [
    {
     "name": "stdout",
     "output_type": "stream",
     "text": [
      "5020 Interest Points retreived.\n"
     ]
    }
   ],
   "source": [
    "import requests\n",
    "import json\n",
    "\n",
    "## Retreive all the interest points from the open data\n",
    "\n",
    "headers = {\n",
    "    'Host' : 'download.data.grandlyon.com',\n",
    "    'User-Agent' : 'Mozilla/5.0 (X11; Ubuntu; Linux x86_64; rv:45.0) Gecko/20100101 Firefox/45.0',\n",
    "    'Accept' : 'text/html,application/xhtml+xml,application/xml;q=0.9,*/*;q=0.8',\n",
    "    'Accept-Language' : 'en-US,en;q=0.5',\n",
    "    'Accept-Encoding' : 'gzip, deflate, br',\n",
    "    'Connection' : 'keep-alive',\n",
    "    'Cache-Control' : 'max-age=0'\n",
    "}\n",
    "\n",
    "payload = {\n",
    "    'SERVICE' : 'WFS',\n",
    "    'VERSION' : '2.0.0',\n",
    "    'outputformat' : 'GEOJSON',\n",
    "    'maxfeatures' : '30000',\n",
    "    'request' : 'GetFeature',\n",
    "    'typename' : 'sit_sitra.sittourisme',\n",
    "    'SRSNAME' : 'urn:ogc:def:crs:EPSG::4171'\n",
    "}\n",
    "\n",
    "url = 'https://download.data.grandlyon.com/wfs/rdata'\n",
    "\n",
    "r = requests.get(url, headers=headers, params=payload)\n",
    "response = r.json()\n",
    "\n",
    "interest_points = []\n",
    "for i in range(0,len(response['features'])):\n",
    "\n",
    "    cord_lat = '0'\n",
    "    cord_long = '0'\n",
    "    coordinates = response['features'][i]['geometry']['coordinates']\n",
    "    if coordinates is not None:\n",
    "        cord_long = str(coordinates[0])\n",
    "        cord_lat = str(coordinates[1])\n",
    "    \n",
    "    ip = {\n",
    "            \"id\" : response['features'][i]['properties']['id'],\n",
    "            \"type\" : response['features'][i]['properties']['type'],\n",
    "            \"type_detail\" : response['features'][i]['properties']['type_detail'],\n",
    "            \"nom\" : response['features'][i]['properties']['nom'],\n",
    "            \"adresse\" : response['features'][i]['properties']['adresse'],\n",
    "            \"codepostal\" : response['features'][i]['properties']['codepostal'],\n",
    "            \"commune\" : response['features'][i]['properties']['commune'],\n",
    "            \"telephone\" : response['features'][i]['properties']['telephone'],\n",
    "            \"fax\" : response['features'][i]['properties']['fax'],\n",
    "            \"telephonefax\" : response['features'][i]['properties']['telephonefax'],\n",
    "            \"email\" : response['features'][i]['properties']['email'],\n",
    "            \"siteweb\" : response['features'][i]['properties']['siteweb'],\n",
    "            \"facebook\" : response['features'][i]['properties']['facebook'],\n",
    "            \"classement\" : response['features'][i]['properties']['classement'],\n",
    "            \"ouverture\" : response['features'][i]['properties']['ouverture'],\n",
    "            \"tarifsenclair\" : response['features'][i]['properties']['tarifsenclair'],\n",
    "            \"tarifsmin\" : response['features'][i]['properties']['tarifsmin'],\n",
    "            \"tarifsmax\" : response['features'][i]['properties']['tarifsmax'],\n",
    "            \"producteur\" : response['features'][i]['properties']['producteur'],\n",
    "            \"date_creation\" : response['features'][i]['properties']['date_creation'],\n",
    "            \"last_update\" : response['features'][i]['properties']['last_update'],\n",
    "            #\"last_update_fme\" : response['features'][i]['properties']['last_update_fme'],\n",
    "            \"coordinates_lat\" : cord_lat,\n",
    "            \"coordinates_long\" : cord_long\n",
    "        }\n",
    "    interest_points.append(ip)\n",
    "\n",
    "print('{0} Interest Points retreived.'.format(len(interest_points)))"
   ]
  },
  {
   "cell_type": "code",
   "execution_count": 2,
   "metadata": {
    "collapsed": false
   },
   "outputs": [
    {
     "name": "stdout",
     "output_type": "stream",
     "text": [
      "Connecting to database\n",
      "Connected!\n"
     ]
    }
   ],
   "source": [
    "import io \n",
    "import psycopg2\n",
    "import sys\n",
    "import pprint\n",
    "#Define our connection string\n",
    "\n",
    "with io.open('../login.json') as log:\n",
    "    login = json.load(log)\n",
    "\n",
    "conn_string = \"host=\"+login[\"host\"]+\" dbname=\"+login[\"dbname\"]+\" user=\"+login[\"user\"]+\" password=\"+login[\"password\"]\n",
    "# print the connection string we will use to connect\n",
    "print(\"Connecting to database\")\n",
    " # get a connection, if a connect cannot be made an exception will be raised here\n",
    "conn = psycopg2.connect(conn_string)\n",
    " # conn.cursor will return a cursor object, you can use this cursor to perform queries\n",
    "cursor = conn.cursor()\n",
    "print(\"Connected!\")\n"
   ]
  },
  {
   "cell_type": "code",
   "execution_count": 3,
   "metadata": {
    "collapsed": false
   },
   "outputs": [
    {
     "name": "stdout",
     "output_type": "stream",
     "text": [
      "5020 records inserted in the database.\n"
     ]
    }
   ],
   "source": [
    "## Insert records in Landing Table\n",
    "try:\n",
    "    #Truncates the Landing table\n",
    "    query = \"TRUNCATE TABLE landing.ip_interest_points;\"\n",
    "    cursor.execute(query)\n",
    "    conn.commit()\n",
    "\n",
    "    # query to insert all the records\n",
    "    query = \"\"\"\n",
    "        INSERT INTO landing.ip_interest_points (\n",
    "            id,\n",
    "            type,\n",
    "            type_detail,\n",
    "            name,\n",
    "            address,\n",
    "            postal_code,\n",
    "            commune,\n",
    "            telephone,\n",
    "            fax,\n",
    "            telephone_fax,\n",
    "            email,\n",
    "            website,\n",
    "            facebook,\n",
    "            ranking,\n",
    "            open_hours,\n",
    "            price,\n",
    "            price_min,\n",
    "            price_max,\n",
    "            producer,\n",
    "            source_create_date,\n",
    "            source_last_update,\n",
    "            coordinates_lat,\n",
    "            coordinates_long\n",
    "        ) VALUES (\n",
    "            %(id)s,\n",
    "            %(type)s,\n",
    "            %(type_detail)s,\n",
    "            %(nom)s,\n",
    "            %(adresse)s,\n",
    "            %(codepostal)s,\n",
    "            %(commune)s,\n",
    "            %(telephone)s,\n",
    "            %(fax)s,\n",
    "            %(telephonefax)s,\n",
    "            %(email)s,\n",
    "            %(siteweb)s,\n",
    "            %(facebook)s,\n",
    "            %(classement)s,\n",
    "            %(ouverture)s,\n",
    "            %(tarifsenclair)s,\n",
    "            %(tarifsmin)s,\n",
    "            %(tarifsmax)s,\n",
    "            %(producteur)s,\n",
    "            %(date_creation)s,\n",
    "            %(last_update)s,\n",
    "            %(coordinates_lat)s,\n",
    "            %(coordinates_long)s\n",
    "        );\"\"\"\n",
    "\n",
    "    cursor.executemany(query, interest_points)\n",
    "    conn.commit()\n",
    "        \n",
    "    #TODO: Log Success\n",
    "    print('{0} records inserted in the database.'.format(len(interest_points)))\n",
    "\n",
    "\n",
    "except psycopg2.DatabaseError as e:\n",
    "    \n",
    "    if conn:\n",
    "        conn.rollback()\n",
    "    \n",
    "    #TODO: Log Error.\n",
    "    print('Error {0}'.format(e))   \n",
    "    sys.exit(1)\n",
    "    \n",
    "    \n",
    "finally:\n",
    "    if conn:\n",
    "        conn.close()"
   ]
  },
  {
   "cell_type": "code",
   "execution_count": null,
   "metadata": {
    "collapsed": true
   },
   "outputs": [],
   "source": []
  }
 ],
 "metadata": {
  "kernelspec": {
   "display_name": "Python 3",
   "language": "python",
   "name": "python3"
  },
  "language_info": {
   "codemirror_mode": {
    "name": "ipython",
    "version": 3
   },
   "file_extension": ".py",
   "mimetype": "text/x-python",
   "name": "python",
   "nbconvert_exporter": "python",
   "pygments_lexer": "ipython3",
   "version": "3.5.1"
  }
 },
 "nbformat": 4,
 "nbformat_minor": 0
}
