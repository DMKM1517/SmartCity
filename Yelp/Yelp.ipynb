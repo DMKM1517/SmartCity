{
 "cells": [
  {
   "cell_type": "code",
   "execution_count": 5,
   "metadata": {
    "collapsed": false
   },
   "outputs": [],
   "source": [
    "from yelp.client import Client\n",
    "from yelp.oauth1_authenticator import Oauth1Authenticator"
   ]
  },
  {
   "cell_type": "code",
   "execution_count": 6,
   "metadata": {
    "collapsed": false
   },
   "outputs": [],
   "source": [
    "import io \n",
    "import json\n",
    "with io.open('config_secret.json') as cred:\n",
    "    creds = json.load(cred)\n",
    "    auth = Oauth1Authenticator(**creds)\n",
    "    client = Client(auth)"
   ]
  },
  {
   "cell_type": "code",
   "execution_count": 7,
   "metadata": {
    "collapsed": false
   },
   "outputs": [
    {
     "name": "stdout",
     "output_type": "stream",
     "text": [
      "Connecting to database\n",
      "Connected!\n"
     ]
    }
   ],
   "source": [
    "import psycopg2\n",
    "import sys\n",
    "import pprint\n",
    "#Define our connection string\n",
    "conn_string = \"host='50.16.139.89' dbname='smart' user='dmkm' password='dmkm1234'\"\n",
    "# print the connection string we will use to connect\n",
    "print(\"Connecting to database\")\n",
    " # get a connection, if a connect cannot be made an exception will be raised here\n",
    "conn = psycopg2.connect(conn_string)\n",
    " # conn.cursor will return a cursor object, you can use this cursor to perform queries\n",
    "cursor = conn.cursor()\n",
    "print(\"Connected!\")\n",
    "cursor.execute(\"SELECT name,id FROM ip.interest_points where in_use = '1'\")\n",
    "records = cursor.fetchall()"
   ]
  },
  {
   "cell_type": "code",
   "execution_count": 8,
   "metadata": {
    "collapsed": false
   },
   "outputs": [],
   "source": [
    "import re\n",
    "import unicodedata\n",
    "\n",
    "def strip_accents(text):\n",
    "    \"\"\"\n",
    "    Strip accents from input String.\n",
    "\n",
    "    :param text: The input string.\n",
    "    :type text: String.\n",
    "\n",
    "    :returns: The processed String.\n",
    "    :rtype: String.\n",
    "    \"\"\"\n",
    "    try:\n",
    "        text = unicode(text, 'utf-8')\n",
    "    except NameError: # unicode is a default on python 3 \n",
    "        pass\n",
    "    text = unicodedata.normalize('NFD', text)\n",
    "    text = text.encode('ascii', 'ignore')\n",
    "    text = text.decode(\"utf-8\")\n",
    "    text = text.replace(\"\\'\",\" \")\n",
    "    text = text.replace(\":\",\"\")\n",
    "    text = text.replace(\"  \",\" \")\n",
    "    text = text[0:60]\n",
    "    return str(text)\n",
    "\n",
    "def text_to_id(text):\n",
    "    \"\"\"\n",
    "    Convert input text to id.\n",
    "\n",
    "    :param text: The input string.\n",
    "    :type text: String.\n",
    "\n",
    "    :returns: The processed String.\n",
    "    :rtype: String.\n",
    "    \"\"\"\n",
    "    text = strip_accents(text.lower())\n",
    "    text = re.sub('[ ]+', '_', text)\n",
    "    text = re.sub('[^0-9a-zA-Z_-],', '', text)\n",
    "    return text\n",
    "#response.total\n",
    "#strip_accents(records[i][0])"
   ]
  },
  {
   "cell_type": "code",
   "execution_count": 9,
   "metadata": {
    "collapsed": false
   },
   "outputs": [],
   "source": [
    "yelp = []\n",
    "for i in range(0,len(records)):\n",
    "    params = {\n",
    "    'term': strip_accents(records[i][0]),\n",
    "    'lang': 'fr'\n",
    "    }\n",
    "    response = client.search('Lyon', **params)\n",
    "    if response.total !=0 :\n",
    "        yelp.append([response.businesses[0].name,\n",
    "        response.businesses[0].rating,\n",
    "        response.businesses[0].location.coordinate.latitude,\n",
    "        response.businesses[0].location.coordinate.longitude,\n",
    "        response.businesses[0].image_url,\n",
    "        response.businesses[0].phone,\n",
    "        response.businesses[0].review_count,\n",
    "        records[i][1]])"
   ]
  },
  {
   "cell_type": "code",
   "execution_count": 10,
   "metadata": {
    "collapsed": false
   },
   "outputs": [],
   "source": [
    "for row in yelp:\n",
    "    name = row[0]\n",
    "    rating = row[1]\n",
    "    latitude = row[2]\n",
    "    longitude = row[3]\n",
    "    image_url = row[4]\n",
    "    phone = row[5]\n",
    "    review_count = row[6]\n",
    "    idd = row[7]\n",
    "    \n",
    "    query = \"INSERT INTO landing.ip_yelp (name, rating, latitude, longitude, image_url, phone, review_count, idd) VALUES (%s, %s, %s, %s, %s, %s, %s, %s)\"\n",
    "    data = (name, rating, latitude, longitude, image_url, phone, review_count, idd)\n",
    "    \n",
    "    cursor.execute(query,data)\n",
    "    conn.commit()\n"
   ]
  },
  {
   "cell_type": "code",
   "execution_count": null,
   "metadata": {
    "collapsed": true
   },
   "outputs": [],
   "source": []
  }
 ],
 "metadata": {
  "kernelspec": {
   "display_name": "Python 3",
   "language": "python",
   "name": "python3"
  },
  "language_info": {
   "codemirror_mode": {
    "name": "ipython",
    "version": 3
   },
   "file_extension": ".py",
   "mimetype": "text/x-python",
   "name": "python",
   "nbconvert_exporter": "python",
   "pygments_lexer": "ipython3",
   "version": "3.5.1"
  }
 },
 "nbformat": 4,
 "nbformat_minor": 0
}
