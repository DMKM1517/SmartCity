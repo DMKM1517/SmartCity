{
 "cells": [
  {
   "cell_type": "code",
   "execution_count": 2,
   "metadata": {
    "collapsed": false
   },
   "outputs": [],
   "source": [
    "from __future__ import print_function\n",
    "from alchemyapi import AlchemyAPI\n",
    "import json\n",
    "\n",
    "import psycopg2\n",
    "import sys\n",
    "import pprint\n",
    "import re"
   ]
  },
  {
   "cell_type": "code",
   "execution_count": 3,
   "metadata": {
    "collapsed": true
   },
   "outputs": [],
   "source": [
    "conn = psycopg2.connect(database=\"smart\", user=\"dmkm\", password=\"dmkm1234\", host=\"50.16.139.89\", port=\"5432\")\n",
    "cursor = conn.cursor()\n",
    "cursor.execute(\"SELECT * FROM tweets.tweets limit 10\")\n",
    "records = cursor.fetchall()"
   ]
  },
  {
   "cell_type": "code",
   "execution_count": 5,
   "metadata": {
    "collapsed": false
   },
   "outputs": [
    {
     "ename": "KeyError",
     "evalue": "'score'",
     "output_type": "error",
     "traceback": [
      "\u001b[0;31m---------------------------------------------------------------------------\u001b[0m",
      "\u001b[0;31mKeyError\u001b[0m                                  Traceback (most recent call last)",
      "\u001b[0;32m<ipython-input-5-95b0471c37f9>\u001b[0m in \u001b[0;36m<module>\u001b[0;34m()\u001b[0m\n\u001b[1;32m      9\u001b[0m \u001b[0;34m\u001b[0m\u001b[0m\n\u001b[1;32m     10\u001b[0m )\n\u001b[0;32m---> 11\u001b[0;31m     \u001b[0mprint\u001b[0m\u001b[0;34m(\u001b[0m\u001b[0mresponse\u001b[0m\u001b[0;34m[\u001b[0m\u001b[0;34m'docSentiment'\u001b[0m\u001b[0;34m]\u001b[0m\u001b[0;34m[\u001b[0m\u001b[0;34m'score'\u001b[0m\u001b[0;34m]\u001b[0m\u001b[0;34m)\u001b[0m\u001b[0;34m\u001b[0m\u001b[0m\n\u001b[0m",
      "\u001b[0;31mKeyError\u001b[0m: 'score'"
     ]
    }
   ],
   "source": [
    "alchemyapi = AlchemyAPI()\n",
    "\n",
    "i=0\n",
    "for tweet in records:\n",
    "#demo_text = 'Yesterday dumb Bob destroyed my fancy iPhone in beautiful Denver, Colorado. I guess I will have to head over to the Apple Store and buy a new one.'\n",
    "#demo_text1 = 'Lyon, meilleure ville pour entreprendre en France dapres'\n",
    "# Create the AlchemyAPI Object\n",
    "    response = alchemyapi.sentiment('text',re.sub('\\'|@|#|http\\S+|:',' ',str(tweet[3]))\n",
    "\n",
    ")\n",
    "    print(response['docSentiment']['score'])"
   ]
  },
  {
   "cell_type": "code",
   "execution_count": 20,
   "metadata": {
    "collapsed": false
   },
   "outputs": [
    {
     "name": "stdout",
     "output_type": "stream",
     "text": [
      "RT @LYONMAngels: Il reste encore des places au @FranceAngels tour de #Lyon que nous organisons le 29/03. Investissons dans les PME!! https:…    LYONMAngels  Il reste encore des places au  FranceAngels tour de  Lyon que nous organisons le 29/03. Investissons dans les PME!!  \n",
      "RT @saladelyonnaise: Le musée Couty ouvrira bien en mars 2017 https://t.co/t6fs2jODLt #Lyon    saladelyonnaise  Le musée Couty ouvrira bien en mars 2017    Lyon\n",
      "@Klydevil quand je reviens à Lyon on se fait une soirée antillaise ?  Klydevil quand je reviens à Lyon on se fait une soirée antillaise ?\n",
      "I'm going to The Last Shadow Puppets at Theatres Romains De Fourviere in Lyon, France - Jul 7 https://t.co/DtBYMyUo14 I m going to The Last Shadow Puppets at Theatres Romains De Fourviere in Lyon, France - Jul 7  \n",
      "RT @OnlyLyon: Lyon, meilleure ville pour entreprendre en France d’après @LExpress - @LEXPANSION_actu ! https://t.co/rlHhakGU7T https://t.co…    OnlyLyon  Lyon, meilleure ville pour entreprendre en France d’après  LExpress -  LEXPANSION_actu !    \n",
      "@sarahpornsexy cc Sarah j habite à côté de Lyon un ptit village à St Paul de varax et toi ?  sarahpornsexy cc Sarah j habite à côté de Lyon un ptit village à St Paul de varax et toi ?\n",
      "Bien-être. On a testé les nouveaux soins du Sofitel https://t.co/rzaJmmkVFV #Lyon @SofitelLyon @biorechercheuk https://t.co/3bfBLMNR9g Bien-être. On a testé les nouveaux soins du Sofitel    Lyon  SofitelLyon  biorechercheuk  \n",
      "Lyon : image du vandalisme à Saint-Pothin https://t.co/dXz4U67OsI via @Christianophobi Lyon   image du vandalisme à Saint-Pothin   via  Christianophobi\n",
      "[Blog] Le printemps s'installe, alors je repense à mon hiver à Lyon, en photos : https://t.co/6HKm4D7jM5 https://t.co/B4ot9DDH2H [Blog] Le printemps s installe, alors je repense à mon hiver à Lyon, en photos      \n",
      "RT @martijn_grooten: More CFPs: @Botconf in Lyon https://t.co/OWQgan88cC (15 July)\n",
      "@securityfest in Gothenburg https://t.co/QR4nTNQ0vc (no …    martijn_grooten  More CFPs   Botconf in Lyon   (15 July)\n",
      " securityfest in Gothenburg   (no …\n"
     ]
    }
   ],
   "source": [
    "for tweet in records:\n",
    "    print(str(tweet[4]),re.sub('\\'|@|#|http\\S+|:|RT',' ',str(tweet[4])))\n"
   ]
  },
  {
   "cell_type": "code",
   "execution_count": 81,
   "metadata": {
    "collapsed": false
   },
   "outputs": [
    {
     "data": {
      "text/plain": [
       "{'docSentiment': {'type': 'neutral'},\n",
       " 'language': 'english',\n",
       " 'status': 'OK',\n",
       " 'totalTransactions': '1',\n",
       " 'usage': 'By accessing AlchemyAPI or using information generated by AlchemyAPI, you are agreeing to be bound by the AlchemyAPI Terms of Use: http://www.alchemyapi.com/company/terms.html'}"
      ]
     },
     "execution_count": 81,
     "metadata": {},
     "output_type": "execute_result"
    }
   ],
   "source": [
    "response"
   ]
  },
  {
   "cell_type": "code",
   "execution_count": null,
   "metadata": {
    "collapsed": true
   },
   "outputs": [],
   "source": []
  }
 ],
 "metadata": {
  "kernelspec": {
   "display_name": "Python 3",
   "language": "python",
   "name": "python3"
  },
  "language_info": {
   "codemirror_mode": {
    "name": "ipython",
    "version": 3
   },
   "file_extension": ".py",
   "mimetype": "text/x-python",
   "name": "python",
   "nbconvert_exporter": "python",
   "pygments_lexer": "ipython3",
   "version": "3.5.1"
  }
 },
 "nbformat": 4,
 "nbformat_minor": 0
}
