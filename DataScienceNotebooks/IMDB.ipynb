{
 "cells": [
  {
   "cell_type": "code",
   "execution_count": 151,
   "metadata": {
    "collapsed": true
   },
   "outputs": [],
   "source": [
    "import pandas as pd\n",
    "import numpy as np\n",
    "import glob\n",
    "import re"
   ]
  },
  {
   "cell_type": "code",
   "execution_count": 152,
   "metadata": {
    "collapsed": false
   },
   "outputs": [],
   "source": [
    "FileNamePos =  glob.glob(\"/Users/krishna/Downloads/aclImdb/train/pos/*.txt\")"
   ]
  },
  {
   "cell_type": "code",
   "execution_count": 153,
   "metadata": {
    "collapsed": true
   },
   "outputs": [],
   "source": [
    "FileNameNeg =  glob.glob(\"/Users/krishna/Downloads/aclImdb/train/neg/*.txt\")"
   ]
  },
  {
   "cell_type": "code",
   "execution_count": 154,
   "metadata": {
    "collapsed": false
   },
   "outputs": [],
   "source": [
    "cntp =1 \n",
    "pos = {}\n",
    "for i in FileNamePos:\n",
    "    lines = list(open(i, 'r'))\n",
    "    score = i[-6:-4].replace(\"_\", \"\")\n",
    "    pos[cntp] = (score,lines,\"imdb\",\"en\")\n",
    "    cntp = cntp + 1"
   ]
  },
  {
   "cell_type": "code",
   "execution_count": 155,
   "metadata": {
    "collapsed": false
   },
   "outputs": [],
   "source": [
    "cntn =1 \n",
    "neg = {}\n",
    "for i in FileNameNeg:\n",
    "    lines = list(open(i, 'r'))\n",
    "    score = i[-6:-4].replace(\"_\", \"\")\n",
    "    neg[cntn] = (score,lines,\"imdb\",\"en\")\n",
    "    cntn = cntn + 1\n",
    "   "
   ]
  },
  {
   "cell_type": "code",
   "execution_count": 156,
   "metadata": {
    "collapsed": false
   },
   "outputs": [],
   "source": [
    "negdf = pd.DataFrame(neg.values(), columns=['score_human', 'text','data_source',\"lang\"])"
   ]
  },
  {
   "cell_type": "code",
   "execution_count": 157,
   "metadata": {
    "collapsed": true
   },
   "outputs": [],
   "source": [
    "posdf = pd.DataFrame(pos.values(), columns=['score_human', 'text','data_source',\"lang\"])"
   ]
  },
  {
   "cell_type": "code",
   "execution_count": 158,
   "metadata": {
    "collapsed": false
   },
   "outputs": [],
   "source": [
    "imdb =posdf.append(negdf,ignore_index = True)"
   ]
  },
  {
   "cell_type": "code",
   "execution_count": 159,
   "metadata": {
    "collapsed": false
   },
   "outputs": [
    {
     "data": {
      "text/plain": [
       "(25000, 4)"
      ]
     },
     "execution_count": 159,
     "metadata": {},
     "output_type": "execute_result"
    }
   ],
   "source": [
    "imdb.shape"
   ]
  },
  {
   "cell_type": "code",
   "execution_count": 160,
   "metadata": {
    "collapsed": false
   },
   "outputs": [],
   "source": [
    "imdb['score_human'] = map(lambda x : round(int(x)/2) ,imdb['score_human']  )\n",
    "imdb['idd'] = imdb.index"
   ]
  },
  {
   "cell_type": "code",
   "execution_count": 161,
   "metadata": {
    "collapsed": false
   },
   "outputs": [
    {
     "data": {
      "text/plain": [
       "<matplotlib.axes._subplots.AxesSubplot at 0x10ecf9050>"
      ]
     },
     "execution_count": 161,
     "metadata": {},
     "output_type": "execute_result"
    },
    {
     "data": {
      "image/png": "[encoded data removed]",
      "text/plain": [
       "<matplotlib.figure.Figure at 0x10e13ec10>"
      ]
     },
     "metadata": {},
     "output_type": "display_data"
    }
   ],
   "source": [
    "%matplotlib inline\n",
    "imdb['score_human'].hist()"
   ]
  },
  {
   "cell_type": "code",
   "execution_count": 162,
   "metadata": {
    "collapsed": false
   },
   "outputs": [
    {
     "data": {
      "text/html": [
       "<div style=\"max-height:1000px;max-width:1500px;overflow:auto;\">\n",
       "<table border=\"1\" class=\"dataframe\">\n",
       "  <thead>\n",
       "    <tr style=\"text-align: right;\">\n",
       "      <th></th>\n",
       "      <th>score_human</th>\n",
       "      <th>text</th>\n",
       "      <th>data_source</th>\n",
       "      <th>lang</th>\n",
       "      <th>idd</th>\n",
       "    </tr>\n",
       "  </thead>\n",
       "  <tbody>\n",
       "    <tr>\n",
       "      <th>0</th>\n",
       "      <td> 4</td>\n",
       "      <td> [Bromwell High is a cartoon comedy. It ran at ...</td>\n",
       "      <td> imdb</td>\n",
       "      <td> en</td>\n",
       "      <td> 0</td>\n",
       "    </tr>\n",
       "    <tr>\n",
       "      <th>1</th>\n",
       "      <td> 4</td>\n",
       "      <td> [Homelessness (or Houselessness as George Carl...</td>\n",
       "      <td> imdb</td>\n",
       "      <td> en</td>\n",
       "      <td> 1</td>\n",
       "    </tr>\n",
       "    <tr>\n",
       "      <th>2</th>\n",
       "      <td> 5</td>\n",
       "      <td> [Brilliant over-acting by Lesley Ann Warren. B...</td>\n",
       "      <td> imdb</td>\n",
       "      <td> en</td>\n",
       "      <td> 2</td>\n",
       "    </tr>\n",
       "  </tbody>\n",
       "</table>\n",
       "</div>"
      ],
      "text/plain": [
       "   score_human                                               text data_source  \\\n",
       "0            4  [Bromwell High is a cartoon comedy. It ran at ...        imdb   \n",
       "1            4  [Homelessness (or Houselessness as George Carl...        imdb   \n",
       "2            5  [Brilliant over-acting by Lesley Ann Warren. B...        imdb   \n",
       "\n",
       "  lang  idd  \n",
       "0   en    0  \n",
       "1   en    1  \n",
       "2   en    2  "
      ]
     },
     "execution_count": 162,
     "metadata": {},
     "output_type": "execute_result"
    }
   ],
   "source": [
    "imdb[0:3]"
   ]
  },
  {
   "cell_type": "code",
   "execution_count": 163,
   "metadata": {
    "collapsed": false
   },
   "outputs": [
    {
     "data": {
      "text/plain": [
       "array([ 4.,  5.,  3.,  1.,  2.,  0.])"
      ]
     },
     "execution_count": 163,
     "metadata": {},
     "output_type": "execute_result"
    }
   ],
   "source": [
    "imdb['score_human'].unique()"
   ]
  },
  {
   "cell_type": "code",
   "execution_count": 164,
   "metadata": {
    "collapsed": true
   },
   "outputs": [],
   "source": [
    "import psycopg2"
   ]
  },
  {
   "cell_type": "code",
   "execution_count": 165,
   "metadata": {
    "collapsed": false
   },
   "outputs": [],
   "source": [
    "import json\n",
    "with open('/Users/krishna/MOOC/smart-city/login.json') as data_file:\n",
    "    db = json.load(data_file)\n",
    "\n",
    "conn = psycopg2.connect(database=db['dbname'], user=db['user'], password=db['password'], host=db['host'], port=db['port'])"
   ]
  },
  {
   "cell_type": "code",
   "execution_count": 166,
   "metadata": {
    "collapsed": false
   },
   "outputs": [],
   "source": [
    "cursor = conn.cursor()"
   ]
  },
  {
   "cell_type": "code",
   "execution_count": 150,
   "metadata": {
    "collapsed": false
   },
   "outputs": [
    {
     "ename": "KeyboardInterrupt",
     "evalue": "",
     "output_type": "error",
     "traceback": [
      "\u001b[0;31m---------------------------------------------------------------------------\u001b[0m",
      "\u001b[0;31mKeyboardInterrupt\u001b[0m                         Traceback (most recent call last)",
      "\u001b[0;32m<ipython-input-150-ef3ad7c9a6ef>\u001b[0m in \u001b[0;36m<module>\u001b[0;34m()\u001b[0m\n\u001b[1;32m      8\u001b[0m     \u001b[0;32mtry\u001b[0m\u001b[0;34m:\u001b[0m\u001b[0;34m\u001b[0m\u001b[0m\n\u001b[1;32m      9\u001b[0m         cursor.execute('INSERT INTO twitter.tweets_manual (score_human, text, data_source ,lang,idd) VALUES (%s,%s,%s,%s,%s)',\n\u001b[0;32m---> 10\u001b[0;31m                        (str(score_human), text[1: 100], data_source ,lang  ,idd))\n\u001b[0m\u001b[1;32m     11\u001b[0m     \u001b[0;32mexcept\u001b[0m \u001b[0mKeyError\u001b[0m\u001b[0;34m,\u001b[0m \u001b[0me\u001b[0m\u001b[0;34m:\u001b[0m\u001b[0;34m\u001b[0m\u001b[0m\n\u001b[1;32m     12\u001b[0m         \u001b[0;32mprint\u001b[0m \u001b[0;34m\"not inserted\"\u001b[0m\u001b[0;34m\u001b[0m\u001b[0m\n",
      "\u001b[0;31mKeyboardInterrupt\u001b[0m: "
     ]
    }
   ],
   "source": [
    "rows_inserted = 0\n",
    "for i in imdb.as_matrix():\n",
    "    score_human = i[0]\n",
    "    text = ''.join(i[1])\n",
    "    data_source = i[2]\n",
    "    lang = i[3]\n",
    "    idd = i[4]\n",
    "    try:\n",
    "        cursor.execute('INSERT INTO twitter.tweets_manual (score_human, text, data_source ,lang,idd) VALUES (%s,%s,%s,%s,%s)',\n",
    "                       (str(score_human), text, data_source ,lang  ,str(idd))\n",
    "    except KeyError, e:\n",
    "        print \"not inserted\"\n",
    "    "
   ]
  },
  {
   "cell_type": "code",
   "execution_count": 117,
   "metadata": {
    "collapsed": false
   },
   "outputs": [
    {
     "ename": "SyntaxError",
     "evalue": "invalid syntax (<ipython-input-117-15e7f02ec2d1>, line 1)",
     "output_type": "error",
     "traceback": [
      "\u001b[0;36m  File \u001b[0;32m\"<ipython-input-117-15e7f02ec2d1>\"\u001b[0;36m, line \u001b[0;32m1\u001b[0m\n\u001b[0;31m    INSERT INTO twitter.tweets_manual (score_human, text, data_source ,lang  ,idd) VALUES (%s,%s,%s,%s,%s)\u001b[0m\n\u001b[0m              ^\u001b[0m\n\u001b[0;31mSyntaxError\u001b[0m\u001b[0;31m:\u001b[0m invalid syntax\n"
     ]
    }
   ],
   "source": [
    "INSERT INTO twitter.tweets_manual (score_human, text, data_source ,lang  ,idd) VALUES (%s,%s,%s,%s,%s)"
   ]
  },
  {
   "cell_type": "code",
   "execution_count": null,
   "metadata": {
    "collapsed": true
   },
   "outputs": [],
   "source": [
    "conn.commit()"
   ]
  }
 ],
 "metadata": {
  "kernelspec": {
   "display_name": "Python 2",
   "language": "python",
   "name": "python2"
  },
  "language_info": {
   "codemirror_mode": {
    "name": "ipython",
    "version": 2
   },
   "file_extension": ".py",
   "mimetype": "text/x-python",
   "name": "python",
   "nbconvert_exporter": "python",
   "pygments_lexer": "ipython2",
   "version": "2.7.9"
  }
 },
 "nbformat": 4,
 "nbformat_minor": 0
}
