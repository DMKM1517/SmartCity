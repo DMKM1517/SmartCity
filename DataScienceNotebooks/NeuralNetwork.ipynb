{
 "cells": [
  {
   "cell_type": "code",
   "execution_count": 3,
   "metadata": {
    "collapsed": false
   },
   "outputs": [],
   "source": [
    "import psycopg2\n",
    "import sklearn\n",
    "from sklearn import svm\n",
    "import pandas.io.sql as psql\n",
    "import psycopg2\n",
    "import re\n",
    "from sklearn.cross_validation import train_test_split\n",
    "from sklearn.feature_extraction.text import TfidfVectorizer\n",
    "from sklearn.metrics import confusion_matrix\n",
    "from sklearn.externals import joblib\n",
    "from sklearn.metrics import accuracy_score, f1_score, precision_score, recall_score, classification_report, confusion_matrix"
   ]
  },
  {
   "cell_type": "code",
   "execution_count": 4,
   "metadata": {
    "collapsed": true
   },
   "outputs": [],
   "source": [
    "import json\n",
    "with open('/Users/krishna/MOOC/smart-city/login.json') as data_file:\n",
    "    db = json.load(data_file)\n",
    "\n",
    "conn = psycopg2.connect(database=db['dbname'], user=db['user'], password=db['password'], host=db['host'], port=db['port'])"
   ]
  },
  {
   "cell_type": "code",
   "execution_count": 5,
   "metadata": {
    "collapsed": false
   },
   "outputs": [
    {
     "name": "stderr",
     "output_type": "stream",
     "text": [
      "/usr/local/lib/python2.7/site-packages/pandas/io/sql.py:1569: FutureWarning: frame_query is deprecated, use read_sql\n",
      "  warnings.warn(\"frame_query is deprecated, use read_sql\", FutureWarning)\n"
     ]
    }
   ],
   "source": [
    "dataframe = psql.frame_query(\"select idd, text, round(2*alch_score +3) as score from twitter.tweets where alch_score != 0 and alch_score is not null ;\", conn)"
   ]
  },
  {
   "cell_type": "code",
   "execution_count": 23,
   "metadata": {
    "collapsed": true
   },
   "outputs": [],
   "source": [
    "dataframe = psql.frame_query(\"select idd, text, 2*alch_score +3 as alch_score_norm, local_score from twitter.tweets where (2*alch_score+3) - local_score < 1 and (2*alch_score+3 - local_score) > - 1 and alch_score != '0'  ;\", conn)"
   ]
  },
  {
   "cell_type": "code",
   "execution_count": 24,
   "metadata": {
    "collapsed": false
   },
   "outputs": [
    {
     "data": {
      "text/plain": [
       "(1471, 4)"
      ]
     },
     "execution_count": 24,
     "metadata": {},
     "output_type": "execute_result"
    }
   ],
   "source": [
    "dataframe.shape"
   ]
  },
  {
   "cell_type": "code",
   "execution_count": 25,
   "metadata": {
    "collapsed": true
   },
   "outputs": [],
   "source": [
    "def processTweet(tweet):\n",
    "    #Convert to lower case\n",
    "    tweet = tweet.lower()\n",
    "    #Convert www.* or https?://* to URL\n",
    "    tweet = re.sub('((www\\.[^\\s]+)|(https?://[^\\s]+))','URL',tweet)\n",
    "    #Convert @username to AT_USER\n",
    "    tweet = re.sub('@[^\\s]+',' ',tweet)\n",
    "    #Remove additional white spaces\n",
    "    tweet = re.sub('[\\s]+', ' ', tweet)\n",
    "    #Replace #word with word\n",
    "    tweet = re.sub(r'#([^\\s]+)', r'\\1', tweet)\n",
    "    #trim\n",
    "    tweet = tweet.strip('\\'\"')\n",
    "    return tweet"
   ]
  },
  {
   "cell_type": "code",
   "execution_count": 26,
   "metadata": {
    "collapsed": true
   },
   "outputs": [],
   "source": [
    "dataframe['text']= dataframe['text'].apply(lambda x : processTweet(x))"
   ]
  },
  {
   "cell_type": "code",
   "execution_count": 36,
   "metadata": {
    "collapsed": true
   },
   "outputs": [],
   "source": [
    "dataframe['avg'] = dataframe.apply(lambda x : round((x['alch_score_norm'] + x['local_score'])/2) ,axis=1)\n",
    "train_data, test_data = train_test_split(dataframe, test_size = 0.2)"
   ]
  },
  {
   "cell_type": "code",
   "execution_count": 37,
   "metadata": {
    "collapsed": false
   },
   "outputs": [
    {
     "data": {
      "text/html": [
       "<div style=\"max-height:1000px;max-width:1500px;overflow:auto;\">\n",
       "<table border=\"1\" class=\"dataframe\">\n",
       "  <thead>\n",
       "    <tr style=\"text-align: right;\">\n",
       "      <th></th>\n",
       "      <th>idd</th>\n",
       "      <th>text</th>\n",
       "      <th>alch_score_norm</th>\n",
       "      <th>local_score</th>\n",
       "      <th>avg</th>\n",
       "    </tr>\n",
       "  </thead>\n",
       "  <tbody>\n",
       "    <tr>\n",
       "      <th>1276</th>\n",
       "      <td> 713501672979439616</td>\n",
       "      <td> rt bassem bravo il a reussi à réunir tt les qu...</td>\n",
       "      <td> 3.717566</td>\n",
       "      <td> 4</td>\n",
       "      <td> 4</td>\n",
       "    </tr>\n",
       "    <tr>\n",
       "      <th>1366</th>\n",
       "      <td> 713507521051422720</td>\n",
       "      <td>                les arabes de lyon vont rien faire</td>\n",
       "      <td> 3.682688</td>\n",
       "      <td> 4</td>\n",
       "      <td> 4</td>\n",
       "    </tr>\n",
       "    <tr>\n",
       "      <th>499 </th>\n",
       "      <td> 713319995464425472</td>\n",
       "      <td> rt [actu] location à lyon : « la persistance d...</td>\n",
       "      <td> 1.554584</td>\n",
       "      <td> 2</td>\n",
       "      <td> 2</td>\n",
       "    </tr>\n",
       "    <tr>\n",
       "      <th>198 </th>\n",
       "      <td> 713432313686802432</td>\n",
       "      <td> rt 🚨bassem vs booba🚨 : rdv le 25 mars au \"re...</td>\n",
       "      <td> 1.554584</td>\n",
       "      <td> 2</td>\n",
       "      <td> 2</td>\n",
       "    </tr>\n",
       "    <tr>\n",
       "      <th>296 </th>\n",
       "      <td> 713183789506232320</td>\n",
       "      <td> le raté contre lyon ...... même à mes futurs p...</td>\n",
       "      <td> 4.612864</td>\n",
       "      <td> 4</td>\n",
       "      <td> 4</td>\n",
       "    </tr>\n",
       "  </tbody>\n",
       "</table>\n",
       "</div>"
      ],
      "text/plain": [
       "                     idd                                               text  \\\n",
       "1276  713501672979439616  rt bassem bravo il a reussi à réunir tt les qu...   \n",
       "1366  713507521051422720                 les arabes de lyon vont rien faire   \n",
       "499   713319995464425472  rt [actu] location à lyon : « la persistance d...   \n",
       "198   713432313686802432  rt 🚨bassem vs booba🚨 : rdv le 25 mars au \"re...   \n",
       "296   713183789506232320  le raté contre lyon ...... même à mes futurs p...   \n",
       "\n",
       "      alch_score_norm  local_score  avg  \n",
       "1276         3.717566            4    4  \n",
       "1366         3.682688            4    4  \n",
       "499          1.554584            2    2  \n",
       "198          1.554584            2    2  \n",
       "296          4.612864            4    4  "
      ]
     },
     "execution_count": 37,
     "metadata": {},
     "output_type": "execute_result"
    }
   ],
   "source": [
    "train_data.head()"
   ]
  },
  {
   "cell_type": "code",
   "execution_count": 38,
   "metadata": {
    "collapsed": true
   },
   "outputs": [],
   "source": [
    "vectorizer = TfidfVectorizer(min_df=5,\n",
    "                             max_df = 1.0,\n",
    "                             sublinear_tf=True,\n",
    "                             use_idf=True)\n",
    "train_vectors = vectorizer.fit_transform(train_data['text'])\n",
    "test_vectors = vectorizer.transform(test_data['text'])"
   ]
  },
  {
   "cell_type": "code",
   "execution_count": 75,
   "metadata": {
    "collapsed": false
   },
   "outputs": [],
   "source": [
    "from sknn.mlp import Classifier, Layer\n",
    "nn = Classifier(\n",
    "    layers=[\n",
    "        Layer(\"ExpLin\", units=20),\n",
    "        Layer(\"Softmax\")],\n",
    "    learning_rate=0.02,\n",
    "    n_iter=30)"
   ]
  },
  {
   "cell_type": "code",
   "execution_count": 76,
   "metadata": {
    "collapsed": false
   },
   "outputs": [
    {
     "data": {
      "text/plain": [
       "Classifier(batch_size=1, callback=None, debug=False, dropout_rate=None,\n",
       "      f_stable=0.001,\n",
       "      hidden0=<sknn.nn.Layer `ExpLin`: units=20, name=u'hidden0', frozen=False>,\n",
       "      layers=[<sknn.nn.Layer `ExpLin`: units=20, name=u'hidden0', frozen=False>, <sknn.nn.Layer `Softmax`: units=5, name=u'output', frozen=False>],\n",
       "      learning_momentum=0.9, learning_rate=0.02, learning_rule=u'sgd',\n",
       "      loss_type=None, n_iter=30, n_stable=10, normalize=None,\n",
       "      output=<sknn.nn.Layer `Softmax`: units=5, name=u'output', frozen=False>,\n",
       "      parameters=None, random_state=None, regularize=None, valid_set=None,\n",
       "      valid_size=0.0, verbose=None, warning=None, weight_decay=None)"
      ]
     },
     "execution_count": 76,
     "metadata": {},
     "output_type": "execute_result"
    }
   ],
   "source": [
    "nn.fit(train_vectors, train_data['avg'])"
   ]
  },
  {
   "cell_type": "code",
   "execution_count": 77,
   "metadata": {
    "collapsed": false
   },
   "outputs": [
    {
     "name": "stdout",
     "output_type": "stream",
     "text": [
      "[(295, 5)]\n"
     ]
    }
   ],
   "source": [
    "predict = nn.predict(test_vectors)\n",
    "cm  = (confusion_matrix(test_data['avg'], predict))"
   ]
  },
  {
   "cell_type": "code",
   "execution_count": 78,
   "metadata": {
    "collapsed": false
   },
   "outputs": [
    {
     "name": "stdout",
     "output_type": "stream",
     "text": [
      "             precision    recall  f1-score   support\n",
      "\n",
      "          1       0.50      0.29      0.36         7\n",
      "          2       0.73      0.81      0.77       120\n",
      "          3       0.61      0.63      0.62        62\n",
      "          4       0.82      0.74      0.78       103\n",
      "          5       1.00      0.33      0.50         3\n",
      "\n",
      "avg / total       0.73      0.73      0.73       295\n",
      "\n"
     ]
    }
   ],
   "source": [
    "target_names = ['1', '2', '3','4','5']\n",
    "print classification_report(test_data['avg'], predict, target_names=target_names)"
   ]
  },
  {
   "cell_type": "code",
   "execution_count": 79,
   "metadata": {
    "collapsed": false
   },
   "outputs": [
    {
     "data": {
      "text/plain": [
       "array([[ 2,  4,  1,  0,  0],\n",
       "       [ 1, 97, 11, 11,  0],\n",
       "       [ 0, 19, 39,  4,  0],\n",
       "       [ 1, 13, 13, 76,  0],\n",
       "       [ 0,  0,  0,  2,  1]])"
      ]
     },
     "execution_count": 79,
     "metadata": {},
     "output_type": "execute_result"
    }
   ],
   "source": [
    "cm"
   ]
  },
  {
   "cell_type": "code",
   "execution_count": 80,
   "metadata": {
    "collapsed": false
   },
   "outputs": [
    {
     "name": "stdout",
     "output_type": "stream",
     "text": [
      "Correctly Classified 215\n",
      "Total data point  295\n",
      "0.604998521148\n"
     ]
    }
   ],
   "source": [
    "print \"Correctly Classified\",cm.trace()\n",
    "print \"Total data point \",cm.sum()\n",
    "print f1_score(test_data['avg'], predict, average=\"macro\")"
   ]
  }
 ],
 "metadata": {
  "kernelspec": {
   "display_name": "Python 2",
   "language": "python",
   "name": "python2"
  },
  "language_info": {
   "codemirror_mode": {
    "name": "ipython",
    "version": 2
   },
   "file_extension": ".py",
   "mimetype": "text/x-python",
   "name": "python",
   "nbconvert_exporter": "python",
   "pygments_lexer": "ipython2",
   "version": "2.7.9"
  }
 },
 "nbformat": 4,
 "nbformat_minor": 0
}
