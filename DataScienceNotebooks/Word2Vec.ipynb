{
 "cells": [
  {
   "cell_type": "code",
   "execution_count": 1,
   "metadata": {
    "collapsed": true
   },
   "outputs": [],
   "source": [
    "import pandas.io.sql as psql\n",
    "import re\n",
    "import psycopg2\n",
    "from gensim.models.word2vec import Word2Vec"
   ]
  },
  {
   "cell_type": "code",
   "execution_count": 2,
   "metadata": {
    "collapsed": false
   },
   "outputs": [],
   "source": [
    "import json\n",
    "with open('/Users/krishna/MOOC/smart-city/login.json') as data_file:\n",
    "    db = json.load(data_file)\n",
    "\n",
    "conn = psycopg2.connect(database=db['dbname'], user=db['user'], password=db['password'], host=db['host'], port=db['port'])"
   ]
  },
  {
   "cell_type": "code",
   "execution_count": 3,
   "metadata": {
    "collapsed": false
   },
   "outputs": [
    {
     "name": "stderr",
     "output_type": "stream",
     "text": [
      "/usr/local/lib/python2.7/site-packages/pandas/io/sql.py:1569: FutureWarning: frame_query is deprecated, use read_sql\n",
      "  warnings.warn(\"frame_query is deprecated, use read_sql\", FutureWarning)\n"
     ]
    }
   ],
   "source": [
    "dataframe = psql.frame_query(\"select text from twitter.tweets limit 1000000\",conn)"
   ]
  },
  {
   "cell_type": "code",
   "execution_count": 4,
   "metadata": {
    "collapsed": false
   },
   "outputs": [
    {
     "data": {
      "text/html": [
       "<div style=\"max-height:1000px;max-width:1500px;overflow:auto;\">\n",
       "<table border=\"1\" class=\"dataframe\">\n",
       "  <thead>\n",
       "    <tr style=\"text-align: right;\">\n",
       "      <th></th>\n",
       "      <th>text</th>\n",
       "    </tr>\n",
       "  </thead>\n",
       "  <tbody>\n",
       "    <tr>\n",
       "      <th>0</th>\n",
       "      <td> RT @jersey_ciamikk: #jersey4sale #1308 Lyon Te...</td>\n",
       "    </tr>\n",
       "    <tr>\n",
       "      <th>1</th>\n",
       "      <td> RT @EmpireFOX: ⚡️ #Empire LIVE: The Lyon famil...</td>\n",
       "    </tr>\n",
       "    <tr>\n",
       "      <th>2</th>\n",
       "      <td> RT @WeNeedTrump: \"Journalists are routinely pa...</td>\n",
       "    </tr>\n",
       "    <tr>\n",
       "      <th>3</th>\n",
       "      <td>         The Lyon are back https://t.co/FuJzPGbYKl</td>\n",
       "    </tr>\n",
       "    <tr>\n",
       "      <th>4</th>\n",
       "      <td> RT @EmpireFOX: Lyon Dynasty is our company. Bu...</td>\n",
       "    </tr>\n",
       "  </tbody>\n",
       "</table>\n",
       "</div>"
      ],
      "text/plain": [
       "                                                text\n",
       "0  RT @jersey_ciamikk: #jersey4sale #1308 Lyon Te...\n",
       "1  RT @EmpireFOX: ⚡️ #Empire LIVE: The Lyon famil...\n",
       "2  RT @WeNeedTrump: \"Journalists are routinely pa...\n",
       "3          The Lyon are back https://t.co/FuJzPGbYKl\n",
       "4  RT @EmpireFOX: Lyon Dynasty is our company. Bu..."
      ]
     },
     "execution_count": 4,
     "metadata": {},
     "output_type": "execute_result"
    }
   ],
   "source": [
    "dataframe.head()"
   ]
  },
  {
   "cell_type": "code",
   "execution_count": 5,
   "metadata": {
    "collapsed": false
   },
   "outputs": [
    {
     "data": {
      "text/plain": [
       "0    [rt, jersey4sale, 1308, lyon, techfit, sz, 6, ...\n",
       "1    [rt, ⚡️, empire, live, the, lyon, family, is, ...\n",
       "2    [rt, \"journalists, are, routinely, paid, by, t...\n",
       "3                          [the, lyon, are, back, URL]\n",
       "4    [rt, lyon, dynasty, is, our, company, but, emp...\n",
       "Name: text, dtype: object"
      ]
     },
     "execution_count": 5,
     "metadata": {},
     "output_type": "execute_result"
    }
   ],
   "source": [
    "def processTweet(tweet):\n",
    "    #Convert to lower case\n",
    "    tweet = tweet.lower()\n",
    "    #Convert www.* or https?://* to URL\n",
    "    tweet = re.sub('((www\\.[^\\s]+)|(https?://[^\\s]+))','URL',tweet)\n",
    "    #Convert @username to AT_USER\n",
    "    tweet = re.sub('@[^\\s]+',' ',tweet)\n",
    "    #Remove additional white spaces\n",
    "    tweet = re.sub('[\\s]+', ' ', tweet)\n",
    "    #Replace #word with word\n",
    "    tweet = re.sub(r'#([^\\s]+)', r'\\1', tweet)\n",
    "    # Remove some punctuations\n",
    "    tweet = re.sub(r'[-:.,]', '', tweet)\n",
    "    \n",
    "    #trim\n",
    "    tweet = tweet.strip('\\'\"')\n",
    "    return tweet.split(\" \")\n",
    "x_train = (dataframe['text']).apply(lambda x : processTweet(x))\n",
    "x_train.head()"
   ]
  },
  {
   "cell_type": "code",
   "execution_count": 6,
   "metadata": {
    "collapsed": true
   },
   "outputs": [],
   "source": [
    "min_count = 1\n",
    "size = 50\n",
    "window = 5\n",
    "model = Word2Vec(x_train, min_count=min_count, size=size, window=window)"
   ]
  },
  {
   "cell_type": "code",
   "execution_count": 7,
   "metadata": {
    "collapsed": false
   },
   "outputs": [
    {
     "data": {
      "text/plain": [
       "[('using', 0.8294156193733215),\n",
       " ('amazing', 0.8200231194496155),\n",
       " ('poor', 0.785050630569458),\n",
       " ('official', 0.7690879702568054),\n",
       " ('system', 0.7619841694831848),\n",
       " ('fucking', 0.7587185502052307),\n",
       " ('healing', 0.7496306300163269),\n",
       " ('funny', 0.7469406127929688),\n",
       " ('fine', 0.7444379329681396),\n",
       " ('awful', 0.7427728176116943)]"
      ]
     },
     "execution_count": 7,
     "metadata": {},
     "output_type": "execute_result"
    }
   ],
   "source": [
    "model.most_similar(\"awesome\")"
   ]
  },
  {
   "cell_type": "code",
   "execution_count": 8,
   "metadata": {
    "collapsed": false
   },
   "outputs": [
    {
     "data": {
      "text/plain": [
       "0.54171155109306535"
      ]
     },
     "execution_count": 8,
     "metadata": {},
     "output_type": "execute_result"
    }
   ],
   "source": [
    "model.similarity(\"paris\",\"lyon\")"
   ]
  },
  {
   "cell_type": "code",
   "execution_count": 9,
   "metadata": {
    "collapsed": false
   },
   "outputs": [
    {
     "data": {
      "text/plain": [
       "array([ 0.86924994, -4.9789834 ,  1.3708179 ,  0.9778772 , -0.02370777,\n",
       "        0.76255035, -4.09478331, -1.13887632,  2.13752627,  2.04903221,\n",
       "        1.32424414, -0.81374109, -0.94304085, -2.38849044,  1.02972889,\n",
       "       -2.55333042, -0.12142814,  0.83060884, -4.31650639, -0.42551121,\n",
       "       -0.93681282,  2.73746467,  0.36426023,  3.67662048, -0.70349705,\n",
       "        1.97618496,  3.20900965, -1.96379614, -3.3901782 ,  2.0519805 ,\n",
       "       -2.83937216,  4.37276363, -0.92251778,  0.04471493, -1.22538817,\n",
       "       -0.12857522,  1.12794185,  1.13678133,  2.79417324, -2.59652901,\n",
       "        0.95113552,  1.37113798,  3.67619181, -0.67609823, -1.56411529,\n",
       "        0.77392948, -1.0804522 , -0.4784795 , -2.51273537,  0.47444874], dtype=float32)"
      ]
     },
     "execution_count": 9,
     "metadata": {},
     "output_type": "execute_result"
    }
   ],
   "source": [
    "model['lyon']"
   ]
  },
  {
   "cell_type": "code",
   "execution_count": 10,
   "metadata": {
    "collapsed": false
   },
   "outputs": [
    {
     "data": {
      "text/plain": [
       "[('idn', 0.5748438835144043),\n",
       " ('voil\\xc3\\xa0\"', 0.5748145580291748),\n",
       " ('atless', 0.5410152673721313),\n",
       " ('l\\xe2\\x80\\x99aff\\xc3\\xbbt', 0.5288395285606384),\n",
       " ('duch&amp;egrave;re', 0.5260607004165649),\n",
       " ('barcelone', 0.525658130645752),\n",
       " ('(3\\xc2\\xba', 0.5250025391578674),\n",
       " ('h/sem', 0.5186048150062561),\n",
       " (\"(62'\", 0.5147116780281067),\n",
       " ('caen', 0.5097489953041077)]"
      ]
     },
     "execution_count": 10,
     "metadata": {},
     "output_type": "execute_result"
    }
   ],
   "source": [
    "model.most_similar(positive=['lyon'], negative=['film'])"
   ]
  }
 ],
 "metadata": {
  "kernelspec": {
   "display_name": "Python 2",
   "language": "python",
   "name": "python2"
  },
  "language_info": {
   "codemirror_mode": {
    "name": "ipython",
    "version": 2
   },
   "file_extension": ".py",
   "mimetype": "text/x-python",
   "name": "python",
   "nbconvert_exporter": "python",
   "pygments_lexer": "ipython2",
   "version": "2.7.9"
  }
 },
 "nbformat": 4,
 "nbformat_minor": 0
}
