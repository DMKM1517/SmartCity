{
 "cells": [
  {
   "cell_type": "code",
   "execution_count": 1,
   "metadata": {
    "collapsed": true
   },
   "outputs": [],
   "source": [
    "import pandas.io.sql as psql\n",
    "import re\n",
    "import psycopg2\n",
    "from gensim.models.word2vec import Word2Vec\n",
    "from sklearn.externals import joblib"
   ]
  },
  {
   "cell_type": "code",
   "execution_count": 2,
   "metadata": {
    "collapsed": false
   },
   "outputs": [],
   "source": [
    "import json\n",
    "with open('/Users/krishna/MOOC/smart-city/login.json') as data_file:\n",
    "    db = json.load(data_file)\n",
    "\n",
    "conn = psycopg2.connect(database=db['dbname'], user=db['user'], password=db['password'], host=db['host'], port=db['port'])"
   ]
  },
  {
   "cell_type": "code",
   "execution_count": 3,
   "metadata": {
    "collapsed": false
   },
   "outputs": [],
   "source": [
    "dataframe = psql.read_sql(\"select text from twitter.tweets limit 1500000\",conn)"
   ]
  },
  {
   "cell_type": "code",
   "execution_count": 4,
   "metadata": {
    "collapsed": false
   },
   "outputs": [
    {
     "data": {
      "text/html": [
       "<div style=\"max-height:1000px;max-width:1500px;overflow:auto;\">\n",
       "<table border=\"1\" class=\"dataframe\">\n",
       "  <thead>\n",
       "    <tr style=\"text-align: right;\">\n",
       "      <th></th>\n",
       "      <th>text</th>\n",
       "    </tr>\n",
       "  </thead>\n",
       "  <tbody>\n",
       "    <tr>\n",
       "      <th>0</th>\n",
       "      <td> Peace activist Jesuit priest Daniel Berrigan d...</td>\n",
       "    </tr>\n",
       "    <tr>\n",
       "      <th>1</th>\n",
       "      <td> RT @srgdxddz: congratulations for your marriag...</td>\n",
       "    </tr>\n",
       "    <tr>\n",
       "      <th>2</th>\n",
       "      <td> RT @starfoutchip: C quel genre de pute ca enco...</td>\n",
       "    </tr>\n",
       "    <tr>\n",
       "      <th>3</th>\n",
       "      <td> Bavure policière à Lyon : R2D2 Cazeneuve gazé ...</td>\n",
       "    </tr>\n",
       "    <tr>\n",
       "      <th>4</th>\n",
       "      <td> Le défilé du #1ermai s'engage dans une ambianc...</td>\n",
       "    </tr>\n",
       "  </tbody>\n",
       "</table>\n",
       "</div>"
      ],
      "text/plain": [
       "                                                text\n",
       "0  Peace activist Jesuit priest Daniel Berrigan d...\n",
       "1  RT @srgdxddz: congratulations for your marriag...\n",
       "2  RT @starfoutchip: C quel genre de pute ca enco...\n",
       "3  Bavure policière à Lyon : R2D2 Cazeneuve gazé ...\n",
       "4  Le défilé du #1ermai s'engage dans une ambianc..."
      ]
     },
     "execution_count": 4,
     "metadata": {},
     "output_type": "execute_result"
    }
   ],
   "source": [
    "dataframe.head()"
   ]
  },
  {
   "cell_type": "code",
   "execution_count": 13,
   "metadata": {
    "collapsed": false
   },
   "outputs": [
    {
     "data": {
      "text/plain": [
       "0    [peace, activist, jesuit, priest, daniel, berr...\n",
       "1    [rt, congratulations, for, your, marriage, and...\n",
       "2    [rt, c, quel, genre, de, pute, ca, encore, ell...\n",
       "3    [bavure, polici, re, lyon, r2d2, cazeneuve, ga...\n",
       "4    [le, d, fil, du, 1ermai, s, engage, dans, une,...\n",
       "Name: text, dtype: object"
      ]
     },
     "execution_count": 13,
     "metadata": {},
     "output_type": "execute_result"
    }
   ],
   "source": [
    "def processTweet(tweet):\n",
    "    #Convert to lower case\n",
    "    tweet = tweet.lower()\n",
    "    #Convert www.* or https?://* to URL\n",
    "    tweet = re.sub('((www\\.[^\\s]+)|(https?://[^\\s]+))','',tweet)\n",
    "    #Convert @username to AT_USER\n",
    "    tweet = re.sub('@[^\\s]+',' ',tweet)\n",
    "    #Remove additional white spaces\n",
    "    tweet = re.sub('[\\s]+', ' ', tweet)\n",
    "    #Replace #word with word\n",
    "    tweet = re.sub(r'#([^\\s]+)', r'\\1', tweet)\n",
    "    # Remove some punctuations\n",
    "    tweet = re.sub(r'[-:.,]', '', tweet)\n",
    "    tweet = re.sub('[^A-Za-z0-9]+', ' ', tweet)\n",
    "    \n",
    "    #trim\n",
    "    tweet = tweet.strip('\\'\"')\n",
    "    return tweet.split(\" \")\n",
    "x_train = (dataframe['text']).apply(lambda x : processTweet(x))\n",
    "x_train.head()"
   ]
  },
  {
   "cell_type": "code",
   "execution_count": 14,
   "metadata": {
    "collapsed": true
   },
   "outputs": [],
   "source": [
    "min_count = 1\n",
    "size = 50\n",
    "window = 5\n",
    "model = Word2Vec(x_train, min_count=min_count, size=size, window=window)"
   ]
  },
  {
   "cell_type": "code",
   "execution_count": 18,
   "metadata": {
    "collapsed": false
   },
   "outputs": [
    {
     "data": {
      "text/plain": [
       "[('terrasses', 0.7827770709991455),\n",
       " ('salles', 0.766467809677124),\n",
       " ('visiteurs', 0.7352768182754517),\n",
       " ('chefs', 0.7304201722145081),\n",
       " ('ats', 0.7221043109893799),\n",
       " ('dits', 0.7198870778083801),\n",
       " ('histoires', 0.71758633852005),\n",
       " ('passages', 0.7165863513946533),\n",
       " ('tablissements', 0.7121161222457886),\n",
       " ('mondiaux', 0.7073555588722229)]"
      ]
     },
     "execution_count": 18,
     "metadata": {},
     "output_type": "execute_result"
    }
   ],
   "source": [
    "model.most_similar(positive=['restaurants'])"
   ]
  },
  {
   "cell_type": "code",
   "execution_count": 17,
   "metadata": {
    "collapsed": false
   },
   "outputs": [
    {
     "data": {
      "text/plain": [
       "0.58235292260779425"
      ]
     },
     "execution_count": 17,
     "metadata": {},
     "output_type": "execute_result"
    }
   ],
   "source": [
    "model.similarity(\"paris\",\"lyon\")"
   ]
  },
  {
   "cell_type": "code",
   "execution_count": 9,
   "metadata": {
    "collapsed": false
   },
   "outputs": [
    {
     "data": {
      "text/plain": [
       "array([ 2.49685001,  1.99363482, -1.25289023, -1.74603617,  0.75938785,\n",
       "       -0.12584274, -2.54330206, -0.3748886 , -2.15562916, -0.88260007,\n",
       "       -0.62843812,  3.60703015,  0.47680762,  2.70707059, -2.51631808,\n",
       "       -1.45990252,  0.55457407,  1.29574287, -0.65043068, -2.20138836,\n",
       "       -1.88914156,  3.602705  ,  1.00108051,  1.69884992,  1.8701781 ,\n",
       "        2.26305795, -0.91946983, -0.68555307,  5.41026163, -0.90500998,\n",
       "        4.968009  , -1.2310679 , -2.16619039, -4.69600391,  0.16414624,\n",
       "       -0.41872534, -1.93912029, -0.62758362,  4.62916994,  1.68850708,\n",
       "       -0.21018761, -1.13256812,  2.65498734,  1.34077191, -1.38609684,\n",
       "        3.86183405,  0.52569824, -3.20377946, -0.14594096,  2.10592031], dtype=float32)"
      ]
     },
     "execution_count": 9,
     "metadata": {},
     "output_type": "execute_result"
    }
   ],
   "source": [
    "model['lyon']"
   ]
  },
  {
   "cell_type": "code",
   "execution_count": 10,
   "metadata": {
    "collapsed": false
   },
   "outputs": [
    {
     "data": {
      "text/plain": [
       "[('lille', 0.5551673769950867),\n",
       " ('hsterdyniak)', 0.5543833374977112),\n",
       " ('angers', 0.5434356927871704),\n",
       " ('dadoune', 0.5413603186607361),\n",
       " ('guingamp', 0.5376990437507629),\n",
       " ('+2\\xc2\\xae', 0.5227891802787781),\n",
       " (\"j'comptait\", 0.5224996209144592),\n",
       " ('sahibim', 0.5223608016967773),\n",
       " ('lyon)', 0.5164003968238831),\n",
       " ('lyon\\xc2\\xbb', 0.5089914798736572)]"
      ]
     },
     "execution_count": 10,
     "metadata": {},
     "output_type": "execute_result"
    }
   ],
   "source": [
    "model.most_similar(positive=['lyon'], negative=['film'])"
   ]
  },
  {
   "cell_type": "code",
   "execution_count": 20,
   "metadata": {
    "collapsed": true
   },
   "outputs": [],
   "source": [
    "model.save('tweetW2V')"
   ]
  },
  {
   "cell_type": "code",
   "execution_count": 21,
   "metadata": {
    "collapsed": true
   },
   "outputs": [],
   "source": [
    "model2 = Word2Vec.load('tweetW2V')"
   ]
  },
  {
   "cell_type": "code",
   "execution_count": 25,
   "metadata": {
    "collapsed": false
   },
   "outputs": [
    {
     "data": {
      "text/plain": [
       "[('waarisjoost', 0.5983824133872986), ('pytagoque', 0.5957268476486206)]"
      ]
     },
     "execution_count": 25,
     "metadata": {},
     "output_type": "execute_result"
    }
   ],
   "source": [
    "model2.most_similar('france')[1:3]"
   ]
  }
 ],
 "metadata": {
  "kernelspec": {
   "display_name": "Python 2",
   "language": "python",
   "name": "python2"
  },
  "language_info": {
   "codemirror_mode": {
    "name": "ipython",
    "version": 2
   },
   "file_extension": ".py",
   "mimetype": "text/x-python",
   "name": "python",
   "nbconvert_exporter": "python",
   "pygments_lexer": "ipython2",
   "version": "2.7.9"
  }
 },
 "nbformat": 4,
 "nbformat_minor": 0
}
