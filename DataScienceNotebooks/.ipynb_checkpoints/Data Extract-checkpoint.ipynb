{
 "cells": [
  {
   "cell_type": "code",
   "execution_count": 1,
   "metadata": {
    "collapsed": true
   },
   "outputs": [],
   "source": [
    "import psycopg2\n",
    "from sklearn import svm\n",
    "import pandas.io.sql as psql\n",
    "import psycopg2\n",
    "import re\n",
    "from sklearn.cross_validation import train_test_split\n",
    "from sklearn.feature_extraction.text import TfidfVectorizer\n",
    "from sklearn.metrics import confusion_matrix\n",
    "from sklearn import grid_search\n",
    "import xgboost as xgb\n",
    "from sklearn.externals import joblib\n",
    "from sklearn.metrics import accuracy_score, f1_score, precision_score, recall_score, classification_report, confusion_matrix"
   ]
  },
  {
   "cell_type": "code",
   "execution_count": 2,
   "metadata": {
    "collapsed": true
   },
   "outputs": [],
   "source": [
    "import json\n",
    "with open('/Users/krishna/MOOC/smart-city/login.json') as data_file:\n",
    "    db = json.load(data_file)\n",
    "\n",
    "conn = psycopg2.connect(database=db['dbname'], user=db['user'], password=db['password'], host=db['host'], port=db['port'])"
   ]
  },
  {
   "cell_type": "code",
   "execution_count": 8,
   "metadata": {
    "collapsed": false
   },
   "outputs": [],
   "source": [
    "dataframe = psql.frame_query(\"select idd,text,local_score,alch_score,sentiment from twitter.tweets where alch_score != '0' and local_score is not null limit 200;\",conn)"
   ]
  },
  {
   "cell_type": "code",
   "execution_count": 9,
   "metadata": {
    "collapsed": false
   },
   "outputs": [
    {
     "data": {
      "text/plain": [
       "(200, 5)"
      ]
     },
     "execution_count": 9,
     "metadata": {},
     "output_type": "execute_result"
    }
   ],
   "source": [
    "dataframe.shape"
   ]
  },
  {
   "cell_type": "code",
   "execution_count": 12,
   "metadata": {
    "collapsed": false
   },
   "outputs": [
    {
     "data": {
      "text/html": [
       "<div style=\"max-height:1000px;max-width:1500px;overflow:auto;\">\n",
       "<table border=\"1\" class=\"dataframe\">\n",
       "  <thead>\n",
       "    <tr style=\"text-align: right;\">\n",
       "      <th></th>\n",
       "      <th>idd</th>\n",
       "      <th>text</th>\n",
       "      <th>local_score</th>\n",
       "      <th>alch_score</th>\n",
       "      <th>sentiment</th>\n",
       "    </tr>\n",
       "  </thead>\n",
       "  <tbody>\n",
       "    <tr>\n",
       "      <th>0</th>\n",
       "      <td> 718749007686799360</td>\n",
       "      <td> RT @DaveMustaine: Sad Wings Of Destiny by far ...</td>\n",
       "      <td> 4</td>\n",
       "      <td>-0.268569</td>\n",
       "      <td> 2</td>\n",
       "    </tr>\n",
       "    <tr>\n",
       "      <th>1</th>\n",
       "      <td> 717268709195309056</td>\n",
       "      <td> Original Poster France Lyon City River Bridge ...</td>\n",
       "      <td> 4</td>\n",
       "      <td>-0.722709</td>\n",
       "      <td> 4</td>\n",
       "    </tr>\n",
       "    <tr>\n",
       "      <th>2</th>\n",
       "      <td> 717270947397406721</td>\n",
       "      <td> Got a question for Ross Lyon @freodockers... L...</td>\n",
       "      <td> 3</td>\n",
       "      <td>-0.722709</td>\n",
       "      <td> 3</td>\n",
       "    </tr>\n",
       "    <tr>\n",
       "      <th>3</th>\n",
       "      <td> 718043948896370688</td>\n",
       "      <td> RT @scottyvaIens: COOKIE LYON\\n\\n- independent...</td>\n",
       "      <td> 2</td>\n",
       "      <td>-0.722708</td>\n",
       "      <td> 3</td>\n",
       "    </tr>\n",
       "    <tr>\n",
       "      <th>4</th>\n",
       "      <td> 726123085800312833</td>\n",
       "      <td> #FRESHBEATS Listen to EarllyMac, Chuckisdope a...</td>\n",
       "      <td> 3</td>\n",
       "      <td>-0.722708</td>\n",
       "      <td> 3</td>\n",
       "    </tr>\n",
       "  </tbody>\n",
       "</table>\n",
       "</div>"
      ],
      "text/plain": [
       "                  idd                                               text  \\\n",
       "0  718749007686799360  RT @DaveMustaine: Sad Wings Of Destiny by far ...   \n",
       "1  717268709195309056  Original Poster France Lyon City River Bridge ...   \n",
       "2  717270947397406721  Got a question for Ross Lyon @freodockers... L...   \n",
       "3  718043948896370688  RT @scottyvaIens: COOKIE LYON\\n\\n- independent...   \n",
       "4  726123085800312833  #FRESHBEATS Listen to EarllyMac, Chuckisdope a...   \n",
       "\n",
       "   local_score  alch_score  sentiment  \n",
       "0            4   -0.268569          2  \n",
       "1            4   -0.722709          4  \n",
       "2            3   -0.722709          3  \n",
       "3            2   -0.722708          3  \n",
       "4            3   -0.722708          3  "
      ]
     },
     "execution_count": 12,
     "metadata": {},
     "output_type": "execute_result"
    }
   ],
   "source": [
    "dataframe.head()"
   ]
  },
  {
   "cell_type": "code",
   "execution_count": null,
   "metadata": {
    "collapsed": true
   },
   "outputs": [],
   "source": [
    "dataframe.to_csv(file_name, sep='\\t')"
   ]
  }
 ],
 "metadata": {
  "kernelspec": {
   "display_name": "Python 2",
   "language": "python",
   "name": "python2"
  },
  "language_info": {
   "codemirror_mode": {
    "name": "ipython",
    "version": 2
   },
   "file_extension": ".py",
   "mimetype": "text/x-python",
   "name": "python",
   "nbconvert_exporter": "python",
   "pygments_lexer": "ipython2",
   "version": "2.7.9"
  }
 },
 "nbformat": 4,
 "nbformat_minor": 0
}
