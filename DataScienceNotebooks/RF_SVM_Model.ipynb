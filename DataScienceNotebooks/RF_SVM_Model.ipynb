{
 "cells": [
  {
   "cell_type": "code",
   "execution_count": 2,
   "metadata": {
    "collapsed": true
   },
   "outputs": [],
   "source": [
    "import psycopg2\n",
    "from sklearn import svm\n",
    "import pandas.io.sql as psql\n",
    "import psycopg2\n",
    "import re\n",
    "from sklearn.cross_validation import train_test_split\n",
    "from sklearn.feature_extraction.text import TfidfVectorizer\n",
    "from sklearn.metrics import confusion_matrix\n",
    "from sklearn import grid_search\n",
    "import xgboost as xgb\n",
    "from sklearn.externals import joblib\n",
    "from sklearn.metrics import accuracy_score, f1_score, precision_score, recall_score, classification_report, confusion_matrix"
   ]
  },
  {
   "cell_type": "code",
   "execution_count": 3,
   "metadata": {
    "collapsed": true
   },
   "outputs": [],
   "source": [
    "import json\n",
    "with open('/Users/krishna/MOOC/smart-city/login.json') as data_file:\n",
    "    db = json.load(data_file)\n",
    "\n",
    "conn = psycopg2.connect(database=db['dbname'], user=db['user'], password=db['password'], host=db['host'], port=db['port'])"
   ]
  },
  {
   "cell_type": "code",
   "execution_count": 35,
   "metadata": {
    "collapsed": false
   },
   "outputs": [
    {
     "name": "stdout",
     "output_type": "stream",
     "text": [
      "(41815, 3)\n"
     ]
    },
    {
     "data": {
      "image/png": "[encoded data removed]",
      "text/plain": [
       "<matplotlib.figure.Figure at 0x111ff0290>"
      ]
     },
     "metadata": {},
     "output_type": "display_data"
    }
   ],
   "source": [
    "%matplotlib inline\n",
    "dataframe1 = psql.frame_query(\"select idd, text, round(2*alch_score +3) as score from twitter.tweets where   alch_score is not null ;\", conn)\n",
    "dataframe1['score'].hist()\n",
    "print dataframe1.shape"
   ]
  },
  {
   "cell_type": "code",
   "execution_count": 25,
   "metadata": {
    "collapsed": false
   },
   "outputs": [
    {
     "name": "stdout",
     "output_type": "stream",
     "text": [
      "(12835, 3)\n"
     ]
    },
    {
     "data": {
      "image/png": "[encoded data removed]",
      "text/plain": [
       "<matplotlib.figure.Figure at 0x11a718f10>"
      ]
     },
     "metadata": {},
     "output_type": "display_data"
    }
   ],
   "source": [
    "dataframe2 = psql.frame_query(\"select idd, text, local_score as score from twitter.tweets where   local_score is not null ;\", conn)\n",
    "dataframe2['score'].hist()\n",
    "print dataframe2.shape"
   ]
  },
  {
   "cell_type": "code",
   "execution_count": 60,
   "metadata": {
    "collapsed": true
   },
   "outputs": [],
   "source": [
    "def processTweet(tweet):\n",
    "    #Convert to lower case\n",
    "    tweet = tweet.lower()\n",
    "    #Convert www.* or https?://* to URL\n",
    "    tweet = re.sub('((www\\.[^\\s]+)|(https?://[^\\s]+))','URL',tweet)\n",
    "    #Convert @username to AT_USER\n",
    "    tweet = re.sub('@[^\\s]+',' ',tweet)\n",
    "    #Remove additional white spaces\n",
    "    tweet = re.sub('[\\s]+', ' ', tweet)\n",
    "    #Replace #word with word\n",
    "    tweet = re.sub(r'#([^\\s]+)', r'\\1', tweet)\n",
    "    #trim\n",
    "    tweet = tweet.strip('\\'\"')\n",
    "    return tweet"
   ]
  },
  {
   "cell_type": "code",
   "execution_count": 61,
   "metadata": {
    "collapsed": true
   },
   "outputs": [],
   "source": [
    "dataframe['text']= dataframe['text'].apply(lambda x : processTweet(x))\n",
    "dataframe['avg'] = dataframe.apply(lambda x : round((x['alch_score_norm'] + x['local_score'])/2) ,axis=1)"
   ]
  },
  {
   "cell_type": "code",
   "execution_count": 62,
   "metadata": {
    "collapsed": true
   },
   "outputs": [],
   "source": [
    "train_data, test_data = train_test_split(dataframe, test_size = 0.2)"
   ]
  },
  {
   "cell_type": "code",
   "execution_count": 63,
   "metadata": {
    "collapsed": false
   },
   "outputs": [],
   "source": [
    "vectorizer = TfidfVectorizer(min_df=5,\n",
    "                             max_df = 1.0,\n",
    "                             sublinear_tf=True,\n",
    "                             use_idf=True)\n",
    "train_vectors = vectorizer.fit_transform(train_data['text'])\n",
    "test_vectors = vectorizer.transform(test_data['text'])"
   ]
  },
  {
   "cell_type": "code",
   "execution_count": 64,
   "metadata": {
    "collapsed": false
   },
   "outputs": [],
   "source": [
    "import warnings\n",
    "warnings.filterwarnings('ignore')\n",
    "from sklearn.ensemble import RandomForestClassifier \n",
    "clf1 = RandomForestClassifier(n_estimators=50)\n",
    "forest = clf1.fit(train_vectors, train_data['avg'])"
   ]
  },
  {
   "cell_type": "code",
   "execution_count": 65,
   "metadata": {
    "collapsed": false
   },
   "outputs": [
    {
     "data": {
      "text/plain": [
       "GridSearchCV(cv=None, error_score='raise',\n",
       "       estimator=SVC(C=1.0, cache_size=200, class_weight=None, coef0=0.0,\n",
       "  decision_function_shape=None, degree=3, gamma='auto', kernel='rbf',\n",
       "  max_iter=-1, probability=False, random_state=None, shrinking=True,\n",
       "  tol=0.001, verbose=False),\n",
       "       fit_params={}, iid=True, n_jobs=1,\n",
       "       param_grid={'kernel': ('linear', 'rbf'), 'C': [0.1, 10]},\n",
       "       pre_dispatch='2*n_jobs', refit=True, scoring=None, verbose=0)"
      ]
     },
     "execution_count": 65,
     "metadata": {},
     "output_type": "execute_result"
    }
   ],
   "source": [
    "parameters = {'kernel':('linear', 'rbf'), 'C':[.1, 10]}\n",
    "svr = svm.SVC()\n",
    "clf2 = grid_search.GridSearchCV(svr, parameters)\n",
    "clf2.fit(train_vectors, train_data['avg'])"
   ]
  },
  {
   "cell_type": "code",
   "execution_count": 66,
   "metadata": {
    "collapsed": false
   },
   "outputs": [
    {
     "name": "stdout",
     "output_type": "stream",
     "text": [
      "[[ 1  4  0  1  0]\n",
      " [ 0 97  1 10  0]\n",
      " [ 0 19 33  5  0]\n",
      " [ 0 26  5 81  0]\n",
      " [ 0  2  0  1  2]]\n",
      "Correctly Classified 214\n",
      "Total data point  288\n",
      "F1 score 0.614776785714\n"
     ]
    }
   ],
   "source": [
    "from sklearn.ensemble import VotingClassifier\n",
    "eclf1 = VotingClassifier(estimators=[('rf', clf1),('svm',clf2) ], voting='soft')\n",
    "eclf1 = eclf1.fit(train_vectors, train_data['avg'])\n",
    "predict = forest.predict(test_vectors)\n",
    "cm  = (confusion_matrix(test_data['avg'], predict))\n",
    "print cm\n",
    "print \"Correctly Classified\",cm.trace()\n",
    "print \"Total data point \",cm.sum()\n",
    "print \"F1 score\" ,f1_score(test_data['avg'], clf1.predict(test_vectors), average=\"macro\")\n",
    "#eclf1 = VotingClassifier(estimators=[('lr', clf1), ('rf', clf2), ('gnb', clf3)], voting='hard')"
   ]
  },
  {
   "cell_type": "markdown",
   "metadata": {},
   "source": [
    "##### Save Model"
   ]
  },
  {
   "cell_type": "code",
   "execution_count": 44,
   "metadata": {
    "collapsed": false
   },
   "outputs": [
    {
     "data": {
      "text/plain": [
       "['ModelObjects/tfidf1500.pkl',\n",
       " 'ModelObjects/tfidf1500.pkl_01.npy',\n",
       " 'ModelObjects/tfidf1500.pkl_02.npy']"
      ]
     },
     "execution_count": 44,
     "metadata": {},
     "output_type": "execute_result"
    }
   ],
   "source": [
    "joblib.dump(vectorizer, \"ModelObjects/tfidf1500.pkl\") "
   ]
  },
  {
   "cell_type": "code",
   "execution_count": 45,
   "metadata": {
    "collapsed": false
   },
   "outputs": [
    {
     "data": {
      "text/plain": [
       "['ModelObjects/modelrfsvm.pkl',\n",
       " 'ModelObjects/modelrfsvm.pkl_01.npy',\n",
       " 'ModelObjects/modelrfsvm.pkl_02.npy',\n",
       " 'ModelObjects/modelrfsvm.pkl_03.npy',\n",
       " 'ModelObjects/modelrfsvm.pkl_04.npy',\n",
       " 'ModelObjects/modelrfsvm.pkl_05.npy',\n",
       " 'ModelObjects/modelrfsvm.pkl_06.npy',\n",
       " 'ModelObjects/modelrfsvm.pkl_07.npy',\n",
       " 'ModelObjects/modelrfsvm.pkl_08.npy',\n",
       " 'ModelObjects/modelrfsvm.pkl_09.npy',\n",
       " 'ModelObjects/modelrfsvm.pkl_10.npy',\n",
       " 'ModelObjects/modelrfsvm.pkl_11.npy',\n",
       " 'ModelObjects/modelrfsvm.pkl_12.npy',\n",
       " 'ModelObjects/modelrfsvm.pkl_13.npy',\n",
       " 'ModelObjects/modelrfsvm.pkl_14.npy',\n",
       " 'ModelObjects/modelrfsvm.pkl_15.npy',\n",
       " 'ModelObjects/modelrfsvm.pkl_16.npy',\n",
       " 'ModelObjects/modelrfsvm.pkl_17.npy',\n",
       " 'ModelObjects/modelrfsvm.pkl_18.npy',\n",
       " 'ModelObjects/modelrfsvm.pkl_19.npy',\n",
       " 'ModelObjects/modelrfsvm.pkl_20.npy',\n",
       " 'ModelObjects/modelrfsvm.pkl_21.npy',\n",
       " 'ModelObjects/modelrfsvm.pkl_22.npy',\n",
       " 'ModelObjects/modelrfsvm.pkl_23.npy',\n",
       " 'ModelObjects/modelrfsvm.pkl_24.npy',\n",
       " 'ModelObjects/modelrfsvm.pkl_25.npy',\n",
       " 'ModelObjects/modelrfsvm.pkl_26.npy',\n",
       " 'ModelObjects/modelrfsvm.pkl_27.npy',\n",
       " 'ModelObjects/modelrfsvm.pkl_28.npy',\n",
       " 'ModelObjects/modelrfsvm.pkl_29.npy',\n",
       " 'ModelObjects/modelrfsvm.pkl_30.npy',\n",
       " 'ModelObjects/modelrfsvm.pkl_31.npy',\n",
       " 'ModelObjects/modelrfsvm.pkl_32.npy',\n",
       " 'ModelObjects/modelrfsvm.pkl_33.npy',\n",
       " 'ModelObjects/modelrfsvm.pkl_34.npy',\n",
       " 'ModelObjects/modelrfsvm.pkl_35.npy',\n",
       " 'ModelObjects/modelrfsvm.pkl_36.npy',\n",
       " 'ModelObjects/modelrfsvm.pkl_37.npy',\n",
       " 'ModelObjects/modelrfsvm.pkl_38.npy',\n",
       " 'ModelObjects/modelrfsvm.pkl_39.npy',\n",
       " 'ModelObjects/modelrfsvm.pkl_40.npy',\n",
       " 'ModelObjects/modelrfsvm.pkl_41.npy',\n",
       " 'ModelObjects/modelrfsvm.pkl_42.npy',\n",
       " 'ModelObjects/modelrfsvm.pkl_43.npy',\n",
       " 'ModelObjects/modelrfsvm.pkl_44.npy',\n",
       " 'ModelObjects/modelrfsvm.pkl_45.npy',\n",
       " 'ModelObjects/modelrfsvm.pkl_46.npy',\n",
       " 'ModelObjects/modelrfsvm.pkl_47.npy',\n",
       " 'ModelObjects/modelrfsvm.pkl_48.npy',\n",
       " 'ModelObjects/modelrfsvm.pkl_49.npy',\n",
       " 'ModelObjects/modelrfsvm.pkl_50.npy',\n",
       " 'ModelObjects/modelrfsvm.pkl_51.npy',\n",
       " 'ModelObjects/modelrfsvm.pkl_52.npy',\n",
       " 'ModelObjects/modelrfsvm.pkl_53.npy',\n",
       " 'ModelObjects/modelrfsvm.pkl_54.npy',\n",
       " 'ModelObjects/modelrfsvm.pkl_55.npy',\n",
       " 'ModelObjects/modelrfsvm.pkl_56.npy',\n",
       " 'ModelObjects/modelrfsvm.pkl_57.npy',\n",
       " 'ModelObjects/modelrfsvm.pkl_58.npy',\n",
       " 'ModelObjects/modelrfsvm.pkl_59.npy',\n",
       " 'ModelObjects/modelrfsvm.pkl_60.npy',\n",
       " 'ModelObjects/modelrfsvm.pkl_61.npy',\n",
       " 'ModelObjects/modelrfsvm.pkl_62.npy',\n",
       " 'ModelObjects/modelrfsvm.pkl_63.npy',\n",
       " 'ModelObjects/modelrfsvm.pkl_64.npy',\n",
       " 'ModelObjects/modelrfsvm.pkl_65.npy',\n",
       " 'ModelObjects/modelrfsvm.pkl_66.npy',\n",
       " 'ModelObjects/modelrfsvm.pkl_67.npy',\n",
       " 'ModelObjects/modelrfsvm.pkl_68.npy',\n",
       " 'ModelObjects/modelrfsvm.pkl_69.npy',\n",
       " 'ModelObjects/modelrfsvm.pkl_70.npy',\n",
       " 'ModelObjects/modelrfsvm.pkl_71.npy',\n",
       " 'ModelObjects/modelrfsvm.pkl_72.npy',\n",
       " 'ModelObjects/modelrfsvm.pkl_73.npy',\n",
       " 'ModelObjects/modelrfsvm.pkl_74.npy',\n",
       " 'ModelObjects/modelrfsvm.pkl_75.npy',\n",
       " 'ModelObjects/modelrfsvm.pkl_76.npy',\n",
       " 'ModelObjects/modelrfsvm.pkl_77.npy',\n",
       " 'ModelObjects/modelrfsvm.pkl_78.npy',\n",
       " 'ModelObjects/modelrfsvm.pkl_79.npy',\n",
       " 'ModelObjects/modelrfsvm.pkl_80.npy',\n",
       " 'ModelObjects/modelrfsvm.pkl_81.npy',\n",
       " 'ModelObjects/modelrfsvm.pkl_82.npy',\n",
       " 'ModelObjects/modelrfsvm.pkl_83.npy',\n",
       " 'ModelObjects/modelrfsvm.pkl_84.npy',\n",
       " 'ModelObjects/modelrfsvm.pkl_85.npy',\n",
       " 'ModelObjects/modelrfsvm.pkl_86.npy',\n",
       " 'ModelObjects/modelrfsvm.pkl_87.npy',\n",
       " 'ModelObjects/modelrfsvm.pkl_88.npy',\n",
       " 'ModelObjects/modelrfsvm.pkl_89.npy',\n",
       " 'ModelObjects/modelrfsvm.pkl_90.npy',\n",
       " 'ModelObjects/modelrfsvm.pkl_91.npy',\n",
       " 'ModelObjects/modelrfsvm.pkl_92.npy',\n",
       " 'ModelObjects/modelrfsvm.pkl_93.npy',\n",
       " 'ModelObjects/modelrfsvm.pkl_94.npy',\n",
       " 'ModelObjects/modelrfsvm.pkl_95.npy',\n",
       " 'ModelObjects/modelrfsvm.pkl_96.npy',\n",
       " 'ModelObjects/modelrfsvm.pkl_97.npy',\n",
       " 'ModelObjects/modelrfsvm.pkl_98.npy',\n",
       " 'ModelObjects/modelrfsvm.pkl_99.npy',\n",
       " 'ModelObjects/modelrfsvm.pkl_100.npy',\n",
       " 'ModelObjects/modelrfsvm.pkl_101.npy',\n",
       " 'ModelObjects/modelrfsvm.pkl_102.npy',\n",
       " 'ModelObjects/modelrfsvm.pkl_103.npy',\n",
       " 'ModelObjects/modelrfsvm.pkl_104.npy',\n",
       " 'ModelObjects/modelrfsvm.pkl_105.npy',\n",
       " 'ModelObjects/modelrfsvm.pkl_106.npy',\n",
       " 'ModelObjects/modelrfsvm.pkl_107.npy',\n",
       " 'ModelObjects/modelrfsvm.pkl_108.npy',\n",
       " 'ModelObjects/modelrfsvm.pkl_109.npy',\n",
       " 'ModelObjects/modelrfsvm.pkl_110.npy',\n",
       " 'ModelObjects/modelrfsvm.pkl_111.npy',\n",
       " 'ModelObjects/modelrfsvm.pkl_112.npy',\n",
       " 'ModelObjects/modelrfsvm.pkl_113.npy',\n",
       " 'ModelObjects/modelrfsvm.pkl_114.npy',\n",
       " 'ModelObjects/modelrfsvm.pkl_115.npy',\n",
       " 'ModelObjects/modelrfsvm.pkl_116.npy',\n",
       " 'ModelObjects/modelrfsvm.pkl_117.npy',\n",
       " 'ModelObjects/modelrfsvm.pkl_118.npy',\n",
       " 'ModelObjects/modelrfsvm.pkl_119.npy',\n",
       " 'ModelObjects/modelrfsvm.pkl_120.npy',\n",
       " 'ModelObjects/modelrfsvm.pkl_121.npy',\n",
       " 'ModelObjects/modelrfsvm.pkl_122.npy',\n",
       " 'ModelObjects/modelrfsvm.pkl_123.npy',\n",
       " 'ModelObjects/modelrfsvm.pkl_124.npy',\n",
       " 'ModelObjects/modelrfsvm.pkl_125.npy',\n",
       " 'ModelObjects/modelrfsvm.pkl_126.npy',\n",
       " 'ModelObjects/modelrfsvm.pkl_127.npy',\n",
       " 'ModelObjects/modelrfsvm.pkl_128.npy',\n",
       " 'ModelObjects/modelrfsvm.pkl_129.npy',\n",
       " 'ModelObjects/modelrfsvm.pkl_130.npy',\n",
       " 'ModelObjects/modelrfsvm.pkl_131.npy',\n",
       " 'ModelObjects/modelrfsvm.pkl_132.npy',\n",
       " 'ModelObjects/modelrfsvm.pkl_133.npy',\n",
       " 'ModelObjects/modelrfsvm.pkl_134.npy',\n",
       " 'ModelObjects/modelrfsvm.pkl_135.npy',\n",
       " 'ModelObjects/modelrfsvm.pkl_136.npy',\n",
       " 'ModelObjects/modelrfsvm.pkl_137.npy',\n",
       " 'ModelObjects/modelrfsvm.pkl_138.npy',\n",
       " 'ModelObjects/modelrfsvm.pkl_139.npy',\n",
       " 'ModelObjects/modelrfsvm.pkl_140.npy',\n",
       " 'ModelObjects/modelrfsvm.pkl_141.npy',\n",
       " 'ModelObjects/modelrfsvm.pkl_142.npy',\n",
       " 'ModelObjects/modelrfsvm.pkl_143.npy',\n",
       " 'ModelObjects/modelrfsvm.pkl_144.npy',\n",
       " 'ModelObjects/modelrfsvm.pkl_145.npy',\n",
       " 'ModelObjects/modelrfsvm.pkl_146.npy',\n",
       " 'ModelObjects/modelrfsvm.pkl_147.npy',\n",
       " 'ModelObjects/modelrfsvm.pkl_148.npy',\n",
       " 'ModelObjects/modelrfsvm.pkl_149.npy',\n",
       " 'ModelObjects/modelrfsvm.pkl_150.npy',\n",
       " 'ModelObjects/modelrfsvm.pkl_151.npy',\n",
       " 'ModelObjects/modelrfsvm.pkl_152.npy',\n",
       " 'ModelObjects/modelrfsvm.pkl_153.npy',\n",
       " 'ModelObjects/modelrfsvm.pkl_154.npy',\n",
       " 'ModelObjects/modelrfsvm.pkl_155.npy',\n",
       " 'ModelObjects/modelrfsvm.pkl_156.npy',\n",
       " 'ModelObjects/modelrfsvm.pkl_157.npy',\n",
       " 'ModelObjects/modelrfsvm.pkl_158.npy',\n",
       " 'ModelObjects/modelrfsvm.pkl_159.npy',\n",
       " 'ModelObjects/modelrfsvm.pkl_160.npy',\n",
       " 'ModelObjects/modelrfsvm.pkl_161.npy',\n",
       " 'ModelObjects/modelrfsvm.pkl_162.npy',\n",
       " 'ModelObjects/modelrfsvm.pkl_163.npy',\n",
       " 'ModelObjects/modelrfsvm.pkl_164.npy',\n",
       " 'ModelObjects/modelrfsvm.pkl_165.npy',\n",
       " 'ModelObjects/modelrfsvm.pkl_166.npy',\n",
       " 'ModelObjects/modelrfsvm.pkl_167.npy',\n",
       " 'ModelObjects/modelrfsvm.pkl_168.npy',\n",
       " 'ModelObjects/modelrfsvm.pkl_169.npy',\n",
       " 'ModelObjects/modelrfsvm.pkl_170.npy',\n",
       " 'ModelObjects/modelrfsvm.pkl_171.npy',\n",
       " 'ModelObjects/modelrfsvm.pkl_172.npy',\n",
       " 'ModelObjects/modelrfsvm.pkl_173.npy',\n",
       " 'ModelObjects/modelrfsvm.pkl_174.npy',\n",
       " 'ModelObjects/modelrfsvm.pkl_175.npy',\n",
       " 'ModelObjects/modelrfsvm.pkl_176.npy',\n",
       " 'ModelObjects/modelrfsvm.pkl_177.npy',\n",
       " 'ModelObjects/modelrfsvm.pkl_178.npy',\n",
       " 'ModelObjects/modelrfsvm.pkl_179.npy',\n",
       " 'ModelObjects/modelrfsvm.pkl_180.npy',\n",
       " 'ModelObjects/modelrfsvm.pkl_181.npy',\n",
       " 'ModelObjects/modelrfsvm.pkl_182.npy',\n",
       " 'ModelObjects/modelrfsvm.pkl_183.npy',\n",
       " 'ModelObjects/modelrfsvm.pkl_184.npy',\n",
       " 'ModelObjects/modelrfsvm.pkl_185.npy',\n",
       " 'ModelObjects/modelrfsvm.pkl_186.npy',\n",
       " 'ModelObjects/modelrfsvm.pkl_187.npy',\n",
       " 'ModelObjects/modelrfsvm.pkl_188.npy',\n",
       " 'ModelObjects/modelrfsvm.pkl_189.npy',\n",
       " 'ModelObjects/modelrfsvm.pkl_190.npy',\n",
       " 'ModelObjects/modelrfsvm.pkl_191.npy',\n",
       " 'ModelObjects/modelrfsvm.pkl_192.npy',\n",
       " 'ModelObjects/modelrfsvm.pkl_193.npy',\n",
       " 'ModelObjects/modelrfsvm.pkl_194.npy',\n",
       " 'ModelObjects/modelrfsvm.pkl_195.npy',\n",
       " 'ModelObjects/modelrfsvm.pkl_196.npy',\n",
       " 'ModelObjects/modelrfsvm.pkl_197.npy',\n",
       " 'ModelObjects/modelrfsvm.pkl_198.npy',\n",
       " 'ModelObjects/modelrfsvm.pkl_199.npy',\n",
       " 'ModelObjects/modelrfsvm.pkl_200.npy',\n",
       " 'ModelObjects/modelrfsvm.pkl_201.npy']"
      ]
     },
     "execution_count": 45,
     "metadata": {},
     "output_type": "execute_result"
    }
   ],
   "source": [
    "joblib.dump(clf1, \"ModelObjects/modelrfsvm.pkl\") "
   ]
  }
 ],
 "metadata": {
  "kernelspec": {
   "display_name": "Python 2",
   "language": "python",
   "name": "python2"
  },
  "language_info": {
   "codemirror_mode": {
    "name": "ipython",
    "version": 2
   },
   "file_extension": ".py",
   "mimetype": "text/x-python",
   "name": "python",
   "nbconvert_exporter": "python",
   "pygments_lexer": "ipython2",
   "version": "2.7.9"
  }
 },
 "nbformat": 4,
 "nbformat_minor": 0
}
